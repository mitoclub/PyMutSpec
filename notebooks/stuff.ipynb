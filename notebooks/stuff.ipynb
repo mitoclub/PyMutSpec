{
 "cells": [
  {
   "cell_type": "code",
   "execution_count": 1,
   "metadata": {},
   "outputs": [],
   "source": [
    "import os\n",
    "import sys\n",
    "from collections import defaultdict\n",
    "from functools import reduce, partial\n",
    "\n",
    "import numpy as np\n",
    "import pandas as pd\n",
    "import scipy.stats\n",
    "import matplotlib\n",
    "import matplotlib.pyplot as plt\n",
    "import seaborn as sns\n",
    "\n",
    "import ete3\n",
    "from ete3 import PhyloTree\n",
    "from Bio import SeqIO"
   ]
  },
  {
   "cell_type": "code",
   "execution_count": 2,
   "metadata": {},
   "outputs": [
    {
     "name": "stdout",
     "output_type": "stream",
     "text": [
      "4.341838297296173\n"
     ]
    },
    {
     "data": {
      "image/png": "[encoded data removed]",
      "text/plain": [
       "<Figure size 432x288 with 1 Axes>"
      ]
     },
     "metadata": {
      "needs_background": "light"
     },
     "output_type": "display_data"
    }
   ],
   "source": [
    "a = np.random.random(96)\n",
    "a = a / a.sum()\n",
    "print(scipy.stats.entropy(a))\n",
    "plt.bar(np.arange(96), a);"
   ]
  },
  {
   "cell_type": "code",
   "execution_count": 47,
   "metadata": {},
   "outputs": [
    {
     "name": "stdout",
     "output_type": "stream",
     "text": [
      "4.564348191467836\n"
     ]
    },
    {
     "data": {
      "image/png": "[encoded data removed]",
      "text/plain": [
       "<Figure size 432x288 with 1 Axes>"
      ]
     },
     "metadata": {
      "needs_background": "light"
     },
     "output_type": "display_data"
    }
   ],
   "source": [
    "b = np.ones(96)\n",
    "b = b / b.sum()\n",
    "print(scipy.stats.entropy(b))\n",
    "plt.bar(np.arange(96), b);"
   ]
  },
  {
   "cell_type": "code",
   "execution_count": 48,
   "metadata": {},
   "outputs": [
    {
     "name": "stdout",
     "output_type": "stream",
     "text": [
      "3.523707089188763\n"
     ]
    },
    {
     "data": {
      "image/png": "[encoded data removed]",
      "text/plain": [
       "<Figure size 432x288 with 1 Axes>"
      ]
     },
     "metadata": {
      "needs_background": "light"
     },
     "output_type": "display_data"
    }
   ],
   "source": [
    "c = np.random.chisquare(.5, 96)\n",
    "c = c / c.sum()\n",
    "print(scipy.stats.entropy(c))\n",
    "plt.bar(np.arange(96), c);"
   ]
  },
  {
   "cell_type": "code",
   "execution_count": 49,
   "metadata": {},
   "outputs": [
    {
     "name": "stdout",
     "output_type": "stream",
     "text": [
      "3.828900502490261\n"
     ]
    },
    {
     "data": {
      "image/png": "[encoded data removed]",
      "text/plain": [
       "<Figure size 432x288 with 1 Axes>"
      ]
     },
     "metadata": {
      "needs_background": "light"
     },
     "output_type": "display_data"
    }
   ],
   "source": [
    "d = np.random.gamma(.5, 10, 96)\n",
    "d = d / d.sum()\n",
    "print(scipy.stats.entropy(d))\n",
    "plt.bar(np.arange(96), d);"
   ]
  },
  {
   "cell_type": "code",
   "execution_count": 52,
   "metadata": {},
   "outputs": [
    {
     "name": "stdout",
     "output_type": "stream",
     "text": [
      "2.537365977619637\n"
     ]
    },
    {
     "data": {
      "image/png": "[encoded data removed]",
      "text/plain": [
       "<Figure size 432x288 with 1 Axes>"
      ]
     },
     "metadata": {
      "needs_background": "light"
     },
     "output_type": "display_data"
    }
   ],
   "source": [
    "d = np.random.gamma(.1, 100, 96)\n",
    "d = d / d.sum()\n",
    "print(scipy.stats.entropy(d))\n",
    "plt.bar(np.arange(96), d);"
   ]
  },
  {
   "cell_type": "markdown",
   "metadata": {},
   "source": [
    "## Compare uniformity metrics"
   ]
  },
  {
   "cell_type": "code",
   "execution_count": 57,
   "metadata": {},
   "outputs": [],
   "source": [
    "n = 200\n",
    "d = 96\n",
    "mutspecs = []\n",
    "for _ in range(n):\n",
    "    a = np.random.random(d)\n",
    "    a = a / a.sum()\n",
    "    mutspecs.append(a)\n",
    "    \n",
    "for _ in range(n):\n",
    "    a = np.random.chisquare(.5, d)\n",
    "    a = a / a.sum()\n",
    "    mutspecs.append(a)\n",
    "\n",
    "for _ in range(n):\n",
    "    a = np.random.gamma(.5, 10, d)\n",
    "    a = a / a.sum()\n",
    "    mutspecs.append(a)\n",
    "\n",
    "for _ in range(n):\n",
    "    a = np.random.gamma(.1, 100, d)\n",
    "    a = a / a.sum()\n",
    "    mutspecs.append(a)"
   ]
  },
  {
   "cell_type": "code",
   "execution_count": 68,
   "metadata": {},
   "outputs": [],
   "source": [
    "entr, cossim, custom = [], [], []\n",
    "for ms in mutspecs:\n",
    "    assert np.isclose(scipy.linalg.norm(ms, 1), 1), f\"{scipy.linalg.norm(ms, 1)} != 1\"\n",
    "    entr.append(scipy.stats.entropy(ms))\n",
    "    _norm = scipy.linalg.norm(ms)\n",
    "    b = np.ones(d) / d\n",
    "    _cossim = 1 - scipy.spatial.distance.cosine(ms, b)\n",
    "    assert np.isclose(_cossim, 1 / _norm / np.sqrt(d)), f\"{_cossim} != {1 / _norm / np.sqrt(d)}\"\n",
    "    cossim.append(_cossim)\n",
    "    custom.append(scipy.linalg.norm(ms - 1 / d, 1) / d)"
   ]
  },
  {
   "cell_type": "code",
   "execution_count": 69,
   "metadata": {},
   "outputs": [
    {
     "data": {
      "text/plain": [
       "(-0.9878434904278504, 0.0)"
      ]
     },
     "execution_count": 69,
     "metadata": {},
     "output_type": "execute_result"
    }
   ],
   "source": [
    "scipy.stats.pearsonr(custom, cossim)"
   ]
  },
  {
   "cell_type": "code",
   "execution_count": 70,
   "metadata": {},
   "outputs": [
    {
     "data": {
      "text/plain": [
       "array([[ 1.        ,  0.96569195, -0.97257305],\n",
       "       [ 0.96569195,  1.        , -0.98784349],\n",
       "       [-0.97257305, -0.98784349,  1.        ]])"
      ]
     },
     "execution_count": 70,
     "metadata": {},
     "output_type": "execute_result"
    }
   ],
   "source": [
    "np.corrcoef([entr, cossim, custom])"
   ]
  },
  {
   "cell_type": "markdown",
   "metadata": {},
   "source": [
    "## Compare normalized and non-normalized mutspec similarity"
   ]
  },
  {
   "cell_type": "code",
   "execution_count": 3,
   "metadata": {},
   "outputs": [],
   "source": [
    "n = 200\n",
    "d = 96\n",
    "mutspecs1 = []\n",
    "for _ in range(n):\n",
    "    a = np.random.random(d)\n",
    "    a = a / a.sum()\n",
    "    mutspecs1.append(a)\n",
    "    \n",
    "for _ in range(n):\n",
    "    a = np.random.chisquare(.5, d)\n",
    "    a = a / a.sum()\n",
    "    mutspecs1.append(a)\n",
    "\n",
    "for _ in range(n):\n",
    "    a = np.random.gamma(.5, 10, d)\n",
    "    a = a / a.sum()\n",
    "    mutspecs1.append(a)\n",
    "\n",
    "for _ in range(n):\n",
    "    a = np.random.gamma(.1, 100, d)\n",
    "    a = a / a.sum()\n",
    "    mutspecs1.append(a)\n",
    "\n",
    "mutspecs2 = []\n",
    "for _ in range(n):\n",
    "    a = np.random.random(d)\n",
    "    a = a / a.sum()\n",
    "    mutspecs2.append(a)\n",
    "    \n",
    "for _ in range(n):\n",
    "    a = np.random.chisquare(.5, d)\n",
    "    a = a / a.sum()\n",
    "    mutspecs2.append(a)\n",
    "\n",
    "for _ in range(n):\n",
    "    a = np.random.gamma(.5, 10, d)\n",
    "    a = a / a.sum()\n",
    "    mutspecs2.append(a)\n",
    "\n",
    "for _ in range(n):\n",
    "    a = np.random.gamma(.1, 100, d)\n",
    "    a = a / a.sum()\n",
    "    mutspecs2.append(a)"
   ]
  },
  {
   "cell_type": "code",
   "execution_count": 59,
   "metadata": {},
   "outputs": [
    {
     "data": {
      "text/plain": [
       "<BarContainer object of 96 artists>"
      ]
     },
     "execution_count": 59,
     "metadata": {},
     "output_type": "execute_result"
    },
    {
     "data": {
      "image/png": "[encoded data removed]",
      "text/plain": [
       "<Figure size 432x288 with 1 Axes>"
      ]
     },
     "metadata": {
      "needs_background": "light"
     },
     "output_type": "display_data"
    }
   ],
   "source": [
    "plt.bar(np.arange(d), np.random.binomial(100, .02, d))"
   ]
  },
  {
   "cell_type": "code",
   "execution_count": 67,
   "metadata": {},
   "outputs": [],
   "source": [
    "sims = []\n",
    "sim_ns = []\n",
    "\n",
    "for _ in range(1000):\n",
    "    ms1 = np.random.gamma(0.8, 50, d)\n",
    "    ms2 = np.random.gamma(0.8, 50, d)\n",
    "    norma = np.random.binomial(100, .02, d) + 1\n",
    "    ms1n = ms1 / norma\n",
    "    ms2n = ms2 / norma\n",
    "\n",
    "    sim = scipy.spatial.distance.cosine(ms1, ms2)\n",
    "    sim_n = scipy.spatial.distance.cosine(ms1n, ms2n)\n",
    "\n",
    "    sims.append(sim)\n",
    "    sim_ns.append(sim_n)"
   ]
  },
  {
   "cell_type": "code",
   "execution_count": 68,
   "metadata": {},
   "outputs": [
    {
     "data": {
      "text/plain": [
       "<matplotlib.collections.PathCollection at 0x7ff63ffaf760>"
      ]
     },
     "execution_count": 68,
     "metadata": {},
     "output_type": "execute_result"
    },
    {
     "data": {
      "image/png": "[encoded data removed]",
      "text/plain": [
       "<Figure size 432x288 with 1 Axes>"
      ]
     },
     "metadata": {
      "needs_background": "light"
     },
     "output_type": "display_data"
    }
   ],
   "source": [
    "plt.scatter(sims, sim_ns)"
   ]
  },
  {
   "cell_type": "code",
   "execution_count": null,
   "metadata": {},
   "outputs": [],
   "source": []
  },
  {
   "cell_type": "code",
   "execution_count": 33,
   "metadata": {},
   "outputs": [
    {
     "data": {
      "text/html": [
       "<div>\n",
       "<style scoped>\n",
       "    .dataframe tbody tr th:only-of-type {\n",
       "        vertical-align: middle;\n",
       "    }\n",
       "\n",
       "    .dataframe tbody tr th {\n",
       "        vertical-align: top;\n",
       "    }\n",
       "\n",
       "    .dataframe thead th {\n",
       "        text-align: right;\n",
       "    }\n",
       "</style>\n",
       "<table border=\"1\" class=\"dataframe\">\n",
       "  <thead>\n",
       "    <tr style=\"text-align: right;\">\n",
       "      <th></th>\n",
       "      <th>sbs</th>\n",
       "      <th>sbs_base</th>\n",
       "      <th>sbs_base_revcomp</th>\n",
       "      <th>sbs_revcomp</th>\n",
       "      <th>is_cosmic</th>\n",
       "      <th>is_kk</th>\n",
       "      <th>sbs_base_for_sorting_kp</th>\n",
       "      <th>sbs_for_ordering_kk</th>\n",
       "      <th>sbs_for_ordering_kp</th>\n",
       "    </tr>\n",
       "  </thead>\n",
       "  <tbody>\n",
       "    <tr>\n",
       "      <th>0</th>\n",
       "      <td>A[A&gt;C]A</td>\n",
       "      <td>A&gt;C</td>\n",
       "      <td>T&gt;G</td>\n",
       "      <td>T[T&gt;G]T</td>\n",
       "      <td>False</td>\n",
       "      <td>True</td>\n",
       "      <td>T&gt;G2</td>\n",
       "      <td>A[A&gt;C]A</td>\n",
       "      <td>T[T&gt;G]T</td>\n",
       "    </tr>\n",
       "    <tr>\n",
       "      <th>1</th>\n",
       "      <td>A[A&gt;C]C</td>\n",
       "      <td>A&gt;C</td>\n",
       "      <td>T&gt;G</td>\n",
       "      <td>G[T&gt;G]T</td>\n",
       "      <td>False</td>\n",
       "      <td>True</td>\n",
       "      <td>T&gt;G2</td>\n",
       "      <td>A[A&gt;C]C</td>\n",
       "      <td>G[T&gt;G]T</td>\n",
       "    </tr>\n",
       "    <tr>\n",
       "      <th>2</th>\n",
       "      <td>A[A&gt;C]G</td>\n",
       "      <td>A&gt;C</td>\n",
       "      <td>T&gt;G</td>\n",
       "      <td>C[T&gt;G]T</td>\n",
       "      <td>False</td>\n",
       "      <td>True</td>\n",
       "      <td>T&gt;G2</td>\n",
       "      <td>A[A&gt;C]G</td>\n",
       "      <td>C[T&gt;G]T</td>\n",
       "    </tr>\n",
       "    <tr>\n",
       "      <th>3</th>\n",
       "      <td>A[A&gt;C]T</td>\n",
       "      <td>A&gt;C</td>\n",
       "      <td>T&gt;G</td>\n",
       "      <td>A[T&gt;G]T</td>\n",
       "      <td>False</td>\n",
       "      <td>True</td>\n",
       "      <td>T&gt;G2</td>\n",
       "      <td>A[A&gt;C]T</td>\n",
       "      <td>A[T&gt;G]T</td>\n",
       "    </tr>\n",
       "    <tr>\n",
       "      <th>4</th>\n",
       "      <td>C[A&gt;C]A</td>\n",
       "      <td>A&gt;C</td>\n",
       "      <td>T&gt;G</td>\n",
       "      <td>T[T&gt;G]G</td>\n",
       "      <td>False</td>\n",
       "      <td>True</td>\n",
       "      <td>T&gt;G2</td>\n",
       "      <td>C[A&gt;C]A</td>\n",
       "      <td>T[T&gt;G]G</td>\n",
       "    </tr>\n",
       "    <tr>\n",
       "      <th>...</th>\n",
       "      <td>...</td>\n",
       "      <td>...</td>\n",
       "      <td>...</td>\n",
       "      <td>...</td>\n",
       "      <td>...</td>\n",
       "      <td>...</td>\n",
       "      <td>...</td>\n",
       "      <td>...</td>\n",
       "      <td>...</td>\n",
       "    </tr>\n",
       "    <tr>\n",
       "      <th>187</th>\n",
       "      <td>G[T&gt;G]T</td>\n",
       "      <td>T&gt;G</td>\n",
       "      <td>A&gt;C</td>\n",
       "      <td>A[A&gt;C]C</td>\n",
       "      <td>True</td>\n",
       "      <td>False</td>\n",
       "      <td>T&gt;G1</td>\n",
       "      <td>A[A&gt;C]C</td>\n",
       "      <td>G[T&gt;G]T</td>\n",
       "    </tr>\n",
       "    <tr>\n",
       "      <th>188</th>\n",
       "      <td>T[T&gt;G]A</td>\n",
       "      <td>T&gt;G</td>\n",
       "      <td>A&gt;C</td>\n",
       "      <td>T[A&gt;C]A</td>\n",
       "      <td>True</td>\n",
       "      <td>False</td>\n",
       "      <td>T&gt;G1</td>\n",
       "      <td>T[A&gt;C]A</td>\n",
       "      <td>T[T&gt;G]A</td>\n",
       "    </tr>\n",
       "    <tr>\n",
       "      <th>189</th>\n",
       "      <td>T[T&gt;G]C</td>\n",
       "      <td>T&gt;G</td>\n",
       "      <td>A&gt;C</td>\n",
       "      <td>G[A&gt;C]A</td>\n",
       "      <td>True</td>\n",
       "      <td>False</td>\n",
       "      <td>T&gt;G1</td>\n",
       "      <td>G[A&gt;C]A</td>\n",
       "      <td>T[T&gt;G]C</td>\n",
       "    </tr>\n",
       "    <tr>\n",
       "      <th>190</th>\n",
       "      <td>T[T&gt;G]G</td>\n",
       "      <td>T&gt;G</td>\n",
       "      <td>A&gt;C</td>\n",
       "      <td>C[A&gt;C]A</td>\n",
       "      <td>True</td>\n",
       "      <td>False</td>\n",
       "      <td>T&gt;G1</td>\n",
       "      <td>C[A&gt;C]A</td>\n",
       "      <td>T[T&gt;G]G</td>\n",
       "    </tr>\n",
       "    <tr>\n",
       "      <th>191</th>\n",
       "      <td>T[T&gt;G]T</td>\n",
       "      <td>T&gt;G</td>\n",
       "      <td>A&gt;C</td>\n",
       "      <td>A[A&gt;C]A</td>\n",
       "      <td>True</td>\n",
       "      <td>False</td>\n",
       "      <td>T&gt;G1</td>\n",
       "      <td>A[A&gt;C]A</td>\n",
       "      <td>T[T&gt;G]T</td>\n",
       "    </tr>\n",
       "  </tbody>\n",
       "</table>\n",
       "<p>192 rows × 9 columns</p>\n",
       "</div>"
      ],
      "text/plain": [
       "         sbs sbs_base sbs_base_revcomp sbs_revcomp  is_cosmic  is_kk  \\\n",
       "0    A[A>C]A      A>C              T>G     T[T>G]T      False   True   \n",
       "1    A[A>C]C      A>C              T>G     G[T>G]T      False   True   \n",
       "2    A[A>C]G      A>C              T>G     C[T>G]T      False   True   \n",
       "3    A[A>C]T      A>C              T>G     A[T>G]T      False   True   \n",
       "4    C[A>C]A      A>C              T>G     T[T>G]G      False   True   \n",
       "..       ...      ...              ...         ...        ...    ...   \n",
       "187  G[T>G]T      T>G              A>C     A[A>C]C       True  False   \n",
       "188  T[T>G]A      T>G              A>C     T[A>C]A       True  False   \n",
       "189  T[T>G]C      T>G              A>C     G[A>C]A       True  False   \n",
       "190  T[T>G]G      T>G              A>C     C[A>C]A       True  False   \n",
       "191  T[T>G]T      T>G              A>C     A[A>C]A       True  False   \n",
       "\n",
       "    sbs_base_for_sorting_kp sbs_for_ordering_kk sbs_for_ordering_kp  \n",
       "0                      T>G2             A[A>C]A             T[T>G]T  \n",
       "1                      T>G2             A[A>C]C             G[T>G]T  \n",
       "2                      T>G2             A[A>C]G             C[T>G]T  \n",
       "3                      T>G2             A[A>C]T             A[T>G]T  \n",
       "4                      T>G2             C[A>C]A             T[T>G]G  \n",
       "..                      ...                 ...                 ...  \n",
       "187                    T>G1             A[A>C]C             G[T>G]T  \n",
       "188                    T>G1             T[A>C]A             T[T>G]A  \n",
       "189                    T>G1             G[A>C]A             T[T>G]C  \n",
       "190                    T>G1             C[A>C]A             T[T>G]G  \n",
       "191                    T>G1             A[A>C]A             T[T>G]T  \n",
       "\n",
       "[192 rows x 9 columns]"
      ]
     },
     "execution_count": 33,
     "metadata": {},
     "output_type": "execute_result"
    }
   ],
   "source": [
    "import numpy as np\n",
    "import pandas as pd\n",
    "import seaborn as sns\n",
    "import matplotlib.pyplot as plt\n",
    "\n",
    "from mutspec.constants import possible_sbs192\n",
    "from mutspec.annotation import rev_comp, transcriptor\n",
    "\n",
    "kk_lbls = \"A>C A>G A>T C>T G>C G>T\".split()\n",
    "cosmic_lbls = \"C>A C>G C>T T>A T>C T>G\".split()\n",
    "\n",
    "df = pd.DataFrame({\"sbs\": possible_sbs192})\n",
    "df[\"sbs_base\"] = df[\"sbs\"].str.slice(2, 5)\n",
    "df[\"sbs_base_revcomp\"] = df[\"sbs_base\"].str.translate(transcriptor)\n",
    "df[\"sbs_revcomp\"] = df[\"sbs\"].apply(rev_comp)\n",
    "df[\"is_cosmic\"] = df[\"sbs_base\"].isin(cosmic_lbls)\n",
    "df[\"is_kk\"] = df[\"sbs_base\"].isin(kk_lbls)\n",
    "df[\"sbs_base_for_sorting_kp\"] = df.apply(lambda x: x.sbs_base + \"1\" if x.is_cosmic else x.sbs_base_revcomp + \"2\", axis=1)\n",
    "df[\"sbs_for_ordering_kk\"] = df.apply(lambda x: x.sbs if x.is_kk else x.sbs_revcomp, axis=1)\n",
    "df[\"sbs_for_ordering_kp\"] = df.apply(lambda x: x.sbs if x.is_cosmic else x.sbs_revcomp, axis=1)\n",
    "\n",
    "ordered_sbs192_kp = list(df.sort_values([\"sbs_base_for_sorting_kp\", \"sbs_for_ordering_kp\"]).sbs.values)\n",
    "ordered_sbs192_kk = list(df.sort_values([\"sbs_base\", \"sbs_for_ordering_kk\"]).sbs.values)\n",
    "df"
   ]
  },
  {
   "cell_type": "code",
   "execution_count": null,
   "metadata": {},
   "outputs": [],
   "source": []
  },
  {
   "cell_type": "code",
   "execution_count": 2,
   "metadata": {},
   "outputs": [],
   "source": [
    "for rec in SeqIO.parse(\"../tmp/evolve/alignment_checked.fasta\", format=\"fasta\"):\n",
    "    break"
   ]
  },
  {
   "cell_type": "code",
   "execution_count": 4,
   "metadata": {},
   "outputs": [],
   "source": [
    "seq = str(rec.seq)"
   ]
  },
  {
   "cell_type": "code",
   "execution_count": 5,
   "metadata": {},
   "outputs": [],
   "source": [
    "from collections import Counter"
   ]
  },
  {
   "cell_type": "code",
   "execution_count": 6,
   "metadata": {},
   "outputs": [
    {
     "data": {
      "text/plain": [
       "Counter({'A': 201, 'T': 182, 'G': 74, 'C': 221})"
      ]
     },
     "execution_count": 6,
     "metadata": {},
     "output_type": "execute_result"
    }
   ],
   "source": [
    "Counter(seq)"
   ]
  },
  {
   "cell_type": "code",
   "execution_count": 4,
   "metadata": {},
   "outputs": [
    {
     "data": {
      "image/png": "[encoded data removed]",
      "text/plain": [
       "<Figure size 1728x720 with 1 Axes>"
      ]
     },
     "metadata": {
      "needs_background": "light"
     },
     "output_type": "display_data"
    }
   ],
   "source": [
    "import pandas as pd\n",
    "import mutspec_utils\n",
    "import matplotlib\n",
    "\n",
    "ms = pd.read_csv(\"../data/processed/birds/21-11-22/mutspec192.tsv\", sep=\"\\t\")\n",
    "\n",
    "mutspec_utils.draw.plot_mutspec192(ms[(ms.Label == \"syn\") & (ms.AltNode == \"Acanthisitta_chloris\")], filepath=\"/tmp/img.pdf\", fontname=\"Times New Roman\")"
   ]
  },
  {
   "cell_type": "code",
   "execution_count": null,
   "metadata": {},
   "outputs": [],
   "source": []
  }
 ],
 "metadata": {
  "kernelspec": {
   "display_name": "Python 3.9.5 ('env_bio')",
   "language": "python",
   "name": "python3"
  },
  "language_info": {
   "codemirror_mode": {
    "name": "ipython",
    "version": 3
   },
   "file_extension": ".py",
   "mimetype": "text/x-python",
   "name": "python",
   "nbconvert_exporter": "python",
   "pygments_lexer": "ipython3",
   "version": "3.9.5"
  },
  "orig_nbformat": 4,
  "vscode": {
   "interpreter": {
    "hash": "c737589ac25c2b5207a58295544dae93bde342e9f173b68ed1d9625ade55517f"
   }
  }
 },
 "nbformat": 4,
 "nbformat_minor": 2
}
