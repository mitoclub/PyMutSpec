{
 "cells": [
  {
   "cell_type": "code",
   "execution_count": 1,
   "metadata": {},
   "outputs": [],
   "source": [
    "import re\n",
    "from queue import Queue\n",
    "from typing import Iterable\n",
    "from collections import defaultdict\n",
    "\n",
    "import numpy as np\n",
    "import pandas as pd\n",
    "import matplotlib.pyplot as plt\n",
    "import seaborn as sns\n",
    "import ete3\n",
    "from ete3 import PhyloTree\n",
    "from scipy.stats import entropy\n",
    "\n",
    "from Bio.Data import CodonTable\n"
   ]
  },
  {
   "cell_type": "code",
   "execution_count": 2,
   "metadata": {},
   "outputs": [],
   "source": [
    "path_to_tree = \"../data/example_birds/anc_kg.treefile\"\n",
    "path_to_states = \"../data/example_birds/genes_states.tsv\"\n",
    "path_to_leaves = \"../data/example_birds/leaves_birds_states.tsv\"\n"
   ]
  },
  {
   "cell_type": "code",
   "execution_count": 4,
   "metadata": {},
   "outputs": [],
   "source": [
    "tree = tree = PhyloTree(path_to_tree, format=1)\n"
   ]
  },
  {
   "cell_type": "code",
   "execution_count": 5,
   "metadata": {},
   "outputs": [
    {
     "name": "stdout",
     "output_type": "stream",
     "text": [
      "Number of leaf nodes:\t764\n",
      "Total number of nodes:\t1526\n",
      "Rooted:\tNo\n",
      "Most distant node:\tCrypturellus_undulatus\n",
      "Max. distance:\t0.447375\n"
     ]
    }
   ],
   "source": [
    "tree.describe()\n"
   ]
  },
  {
   "cell_type": "code",
   "execution_count": 6,
   "metadata": {},
   "outputs": [],
   "source": [
    "# print(tree.get_ascii())\n",
    "# tree.show()\n"
   ]
  },
  {
   "cell_type": "code",
   "execution_count": 6,
   "metadata": {},
   "outputs": [],
   "source": [
    "adtype = {\n",
    "    \"Site\": np.int32,\n",
    "    \"p_A\":  np.float32,\n",
    "    \"p_C\":  np.float32,\n",
    "    \"p_G\":  np.float32,\n",
    "    \"p_T\":  np.float32\n",
    "}\n",
    "anc = pd.read_csv(path_to_states, sep=\"\\t\", comment='#', dtype=adtype)\n",
    "leaves = pd.read_csv(path_to_leaves, sep=\"\\t\", dtype=adtype)\n"
   ]
  },
  {
   "cell_type": "code",
   "execution_count": 7,
   "metadata": {},
   "outputs": [
    {
     "data": {
      "text/html": [
       "<div>\n",
       "<style scoped>\n",
       "    .dataframe tbody tr th:only-of-type {\n",
       "        vertical-align: middle;\n",
       "    }\n",
       "\n",
       "    .dataframe tbody tr th {\n",
       "        vertical-align: top;\n",
       "    }\n",
       "\n",
       "    .dataframe thead th {\n",
       "        text-align: right;\n",
       "    }\n",
       "</style>\n",
       "<table border=\"1\" class=\"dataframe\">\n",
       "  <thead>\n",
       "    <tr style=\"text-align: right;\">\n",
       "      <th></th>\n",
       "      <th>Node</th>\n",
       "      <th>Part</th>\n",
       "      <th>Site</th>\n",
       "      <th>State</th>\n",
       "      <th>p_A</th>\n",
       "      <th>p_C</th>\n",
       "      <th>p_G</th>\n",
       "      <th>p_T</th>\n",
       "    </tr>\n",
       "  </thead>\n",
       "  <tbody>\n",
       "    <tr>\n",
       "      <th>0</th>\n",
       "      <td>Acanthisitta_chloris</td>\n",
       "      <td>1</td>\n",
       "      <td>1</td>\n",
       "      <td>-</td>\n",
       "      <td>0.0</td>\n",
       "      <td>0.0</td>\n",
       "      <td>0.0</td>\n",
       "      <td>0.0</td>\n",
       "    </tr>\n",
       "    <tr>\n",
       "      <th>1</th>\n",
       "      <td>Acanthisitta_chloris</td>\n",
       "      <td>1</td>\n",
       "      <td>2</td>\n",
       "      <td>-</td>\n",
       "      <td>0.0</td>\n",
       "      <td>0.0</td>\n",
       "      <td>0.0</td>\n",
       "      <td>0.0</td>\n",
       "    </tr>\n",
       "  </tbody>\n",
       "</table>\n",
       "</div>"
      ],
      "text/plain": [
       "                   Node  Part  Site State  p_A  p_C  p_G  p_T\n",
       "0  Acanthisitta_chloris     1     1     -  0.0  0.0  0.0  0.0\n",
       "1  Acanthisitta_chloris     1     2     -  0.0  0.0  0.0  0.0"
      ]
     },
     "execution_count": 7,
     "metadata": {},
     "output_type": "execute_result"
    }
   ],
   "source": [
    "leaves.head(2)\n"
   ]
  },
  {
   "cell_type": "markdown",
   "metadata": {},
   "source": [
    "## Adapt anc table (part adding & site replacement)"
   ]
  },
  {
   "cell_type": "code",
   "execution_count": 8,
   "metadata": {},
   "outputs": [
    {
     "data": {
      "text/html": [
       "<div>\n",
       "<style scoped>\n",
       "    .dataframe tbody tr th:only-of-type {\n",
       "        vertical-align: middle;\n",
       "    }\n",
       "\n",
       "    .dataframe tbody tr th {\n",
       "        vertical-align: top;\n",
       "    }\n",
       "\n",
       "    .dataframe thead th {\n",
       "        text-align: right;\n",
       "    }\n",
       "</style>\n",
       "<table border=\"1\" class=\"dataframe\">\n",
       "  <thead>\n",
       "    <tr style=\"text-align: right;\">\n",
       "      <th></th>\n",
       "      <th>Node</th>\n",
       "      <th>Part</th>\n",
       "      <th>Site</th>\n",
       "      <th>State</th>\n",
       "      <th>p_A</th>\n",
       "      <th>p_C</th>\n",
       "      <th>p_G</th>\n",
       "      <th>p_T</th>\n",
       "    </tr>\n",
       "  </thead>\n",
       "  <tbody>\n",
       "    <tr>\n",
       "      <th>0</th>\n",
       "      <td>Node1</td>\n",
       "      <td>1</td>\n",
       "      <td>1</td>\n",
       "      <td>A</td>\n",
       "      <td>0.9619</td>\n",
       "      <td>0.00923</td>\n",
       "      <td>0.02219</td>\n",
       "      <td>0.00668</td>\n",
       "    </tr>\n",
       "    <tr>\n",
       "      <th>1</th>\n",
       "      <td>Node1</td>\n",
       "      <td>1</td>\n",
       "      <td>2</td>\n",
       "      <td>T</td>\n",
       "      <td>0.0080</td>\n",
       "      <td>0.05699</td>\n",
       "      <td>0.00347</td>\n",
       "      <td>0.93154</td>\n",
       "    </tr>\n",
       "  </tbody>\n",
       "</table>\n",
       "</div>"
      ],
      "text/plain": [
       "    Node  Part  Site State     p_A      p_C      p_G      p_T\n",
       "0  Node1     1     1     A  0.9619  0.00923  0.02219  0.00668\n",
       "1  Node1     1     2     T  0.0080  0.05699  0.00347  0.93154"
      ]
     },
     "execution_count": 8,
     "metadata": {},
     "output_type": "execute_result"
    }
   ],
   "source": [
    "anc.head(2)\n"
   ]
  },
  {
   "cell_type": "code",
   "execution_count": 9,
   "metadata": {},
   "outputs": [],
   "source": [
    "one_leaf = leaves[leaves.Node == leaves.Node.sample().values[0]].sort_values([\n",
    "    \"Part\", \"Site\"])\n"
   ]
  },
  {
   "cell_type": "code",
   "execution_count": 10,
   "metadata": {},
   "outputs": [
    {
     "data": {
      "text/html": [
       "<div>\n",
       "<style scoped>\n",
       "    .dataframe tbody tr th:only-of-type {\n",
       "        vertical-align: middle;\n",
       "    }\n",
       "\n",
       "    .dataframe tbody tr th {\n",
       "        vertical-align: top;\n",
       "    }\n",
       "\n",
       "    .dataframe thead th {\n",
       "        text-align: right;\n",
       "    }\n",
       "</style>\n",
       "<table border=\"1\" class=\"dataframe\">\n",
       "  <thead>\n",
       "    <tr style=\"text-align: right;\">\n",
       "      <th></th>\n",
       "      <th>Node</th>\n",
       "      <th>Part</th>\n",
       "      <th>Site</th>\n",
       "      <th>State</th>\n",
       "      <th>p_A</th>\n",
       "      <th>p_C</th>\n",
       "      <th>p_G</th>\n",
       "      <th>p_T</th>\n",
       "    </tr>\n",
       "  </thead>\n",
       "  <tbody>\n",
       "    <tr>\n",
       "      <th>441330</th>\n",
       "      <td>Cygnus_atratus</td>\n",
       "      <td>1</td>\n",
       "      <td>1</td>\n",
       "      <td>-</td>\n",
       "      <td>0.0</td>\n",
       "      <td>0.0</td>\n",
       "      <td>0.0</td>\n",
       "      <td>0.0</td>\n",
       "    </tr>\n",
       "    <tr>\n",
       "      <th>441331</th>\n",
       "      <td>Cygnus_atratus</td>\n",
       "      <td>1</td>\n",
       "      <td>2</td>\n",
       "      <td>-</td>\n",
       "      <td>0.0</td>\n",
       "      <td>0.0</td>\n",
       "      <td>0.0</td>\n",
       "      <td>0.0</td>\n",
       "    </tr>\n",
       "    <tr>\n",
       "      <th>441332</th>\n",
       "      <td>Cygnus_atratus</td>\n",
       "      <td>1</td>\n",
       "      <td>3</td>\n",
       "      <td>-</td>\n",
       "      <td>0.0</td>\n",
       "      <td>0.0</td>\n",
       "      <td>0.0</td>\n",
       "      <td>0.0</td>\n",
       "    </tr>\n",
       "    <tr>\n",
       "      <th>441333</th>\n",
       "      <td>Cygnus_atratus</td>\n",
       "      <td>1</td>\n",
       "      <td>4</td>\n",
       "      <td>-</td>\n",
       "      <td>0.0</td>\n",
       "      <td>0.0</td>\n",
       "      <td>0.0</td>\n",
       "      <td>0.0</td>\n",
       "    </tr>\n",
       "    <tr>\n",
       "      <th>441334</th>\n",
       "      <td>Cygnus_atratus</td>\n",
       "      <td>1</td>\n",
       "      <td>5</td>\n",
       "      <td>-</td>\n",
       "      <td>0.0</td>\n",
       "      <td>0.0</td>\n",
       "      <td>0.0</td>\n",
       "      <td>0.0</td>\n",
       "    </tr>\n",
       "    <tr>\n",
       "      <th>...</th>\n",
       "      <td>...</td>\n",
       "      <td>...</td>\n",
       "      <td>...</td>\n",
       "      <td>...</td>\n",
       "      <td>...</td>\n",
       "      <td>...</td>\n",
       "      <td>...</td>\n",
       "      <td>...</td>\n",
       "    </tr>\n",
       "    <tr>\n",
       "      <th>8323807</th>\n",
       "      <td>Cygnus_atratus</td>\n",
       "      <td>12</td>\n",
       "      <td>1916</td>\n",
       "      <td>-</td>\n",
       "      <td>0.0</td>\n",
       "      <td>0.0</td>\n",
       "      <td>0.0</td>\n",
       "      <td>0.0</td>\n",
       "    </tr>\n",
       "    <tr>\n",
       "      <th>8323808</th>\n",
       "      <td>Cygnus_atratus</td>\n",
       "      <td>12</td>\n",
       "      <td>1917</td>\n",
       "      <td>-</td>\n",
       "      <td>0.0</td>\n",
       "      <td>0.0</td>\n",
       "      <td>0.0</td>\n",
       "      <td>0.0</td>\n",
       "    </tr>\n",
       "    <tr>\n",
       "      <th>8323809</th>\n",
       "      <td>Cygnus_atratus</td>\n",
       "      <td>12</td>\n",
       "      <td>1918</td>\n",
       "      <td>-</td>\n",
       "      <td>0.0</td>\n",
       "      <td>0.0</td>\n",
       "      <td>0.0</td>\n",
       "      <td>0.0</td>\n",
       "    </tr>\n",
       "    <tr>\n",
       "      <th>8323810</th>\n",
       "      <td>Cygnus_atratus</td>\n",
       "      <td>12</td>\n",
       "      <td>1919</td>\n",
       "      <td>-</td>\n",
       "      <td>0.0</td>\n",
       "      <td>0.0</td>\n",
       "      <td>0.0</td>\n",
       "      <td>0.0</td>\n",
       "    </tr>\n",
       "    <tr>\n",
       "      <th>8323811</th>\n",
       "      <td>Cygnus_atratus</td>\n",
       "      <td>12</td>\n",
       "      <td>1920</td>\n",
       "      <td>-</td>\n",
       "      <td>0.0</td>\n",
       "      <td>0.0</td>\n",
       "      <td>0.0</td>\n",
       "      <td>0.0</td>\n",
       "    </tr>\n",
       "  </tbody>\n",
       "</table>\n",
       "<p>11325 rows × 8 columns</p>\n",
       "</div>"
      ],
      "text/plain": [
       "                   Node  Part  Site State  p_A  p_C  p_G  p_T\n",
       "441330   Cygnus_atratus     1     1     -  0.0  0.0  0.0  0.0\n",
       "441331   Cygnus_atratus     1     2     -  0.0  0.0  0.0  0.0\n",
       "441332   Cygnus_atratus     1     3     -  0.0  0.0  0.0  0.0\n",
       "441333   Cygnus_atratus     1     4     -  0.0  0.0  0.0  0.0\n",
       "441334   Cygnus_atratus     1     5     -  0.0  0.0  0.0  0.0\n",
       "...                 ...   ...   ...   ...  ...  ...  ...  ...\n",
       "8323807  Cygnus_atratus    12  1916     -  0.0  0.0  0.0  0.0\n",
       "8323808  Cygnus_atratus    12  1917     -  0.0  0.0  0.0  0.0\n",
       "8323809  Cygnus_atratus    12  1918     -  0.0  0.0  0.0  0.0\n",
       "8323810  Cygnus_atratus    12  1919     -  0.0  0.0  0.0  0.0\n",
       "8323811  Cygnus_atratus    12  1920     -  0.0  0.0  0.0  0.0\n",
       "\n",
       "[11325 rows x 8 columns]"
      ]
     },
     "execution_count": 10,
     "metadata": {},
     "output_type": "execute_result"
    }
   ],
   "source": [
    "one_leaf\n"
   ]
  },
  {
   "cell_type": "code",
   "execution_count": 11,
   "metadata": {},
   "outputs": [
    {
     "data": {
      "text/plain": [
       "762"
      ]
     },
     "execution_count": 11,
     "metadata": {},
     "output_type": "execute_result"
    }
   ],
   "source": [
    "replication_factor = anc.shape[0] / one_leaf.shape[0]\n",
    "assert replication_factor == int(replication_factor)\n",
    "replication_factor = int(replication_factor)\n",
    "replication_factor\n"
   ]
  },
  {
   "cell_type": "code",
   "execution_count": 12,
   "metadata": {},
   "outputs": [],
   "source": [
    "anc = anc.sort_values([\"Node\", \"Site\"])\n"
   ]
  },
  {
   "cell_type": "code",
   "execution_count": 13,
   "metadata": {},
   "outputs": [
    {
     "data": {
      "text/html": [
       "<div>\n",
       "<style scoped>\n",
       "    .dataframe tbody tr th:only-of-type {\n",
       "        vertical-align: middle;\n",
       "    }\n",
       "\n",
       "    .dataframe tbody tr th {\n",
       "        vertical-align: top;\n",
       "    }\n",
       "\n",
       "    .dataframe thead th {\n",
       "        text-align: right;\n",
       "    }\n",
       "</style>\n",
       "<table border=\"1\" class=\"dataframe\">\n",
       "  <thead>\n",
       "    <tr style=\"text-align: right;\">\n",
       "      <th></th>\n",
       "      <th>Node</th>\n",
       "      <th>Part</th>\n",
       "      <th>Site</th>\n",
       "      <th>State</th>\n",
       "      <th>p_A</th>\n",
       "      <th>p_C</th>\n",
       "      <th>p_G</th>\n",
       "      <th>p_T</th>\n",
       "    </tr>\n",
       "  </thead>\n",
       "  <tbody>\n",
       "    <tr>\n",
       "      <th>0</th>\n",
       "      <td>Node1</td>\n",
       "      <td>1</td>\n",
       "      <td>1</td>\n",
       "      <td>A</td>\n",
       "      <td>0.96190</td>\n",
       "      <td>0.00923</td>\n",
       "      <td>0.02219</td>\n",
       "      <td>0.00668</td>\n",
       "    </tr>\n",
       "    <tr>\n",
       "      <th>705</th>\n",
       "      <td>Node1</td>\n",
       "      <td>2</td>\n",
       "      <td>1</td>\n",
       "      <td>A</td>\n",
       "      <td>0.99999</td>\n",
       "      <td>0.00000</td>\n",
       "      <td>0.00001</td>\n",
       "      <td>0.00000</td>\n",
       "    </tr>\n",
       "    <tr>\n",
       "      <th>909</th>\n",
       "      <td>Node1</td>\n",
       "      <td>3</td>\n",
       "      <td>1</td>\n",
       "      <td>A</td>\n",
       "      <td>0.99840</td>\n",
       "      <td>0.00011</td>\n",
       "      <td>0.00142</td>\n",
       "      <td>0.00008</td>\n",
       "    </tr>\n",
       "    <tr>\n",
       "      <th>2478</th>\n",
       "      <td>Node1</td>\n",
       "      <td>4</td>\n",
       "      <td>1</td>\n",
       "      <td>A</td>\n",
       "      <td>0.88981</td>\n",
       "      <td>0.03113</td>\n",
       "      <td>0.05654</td>\n",
       "      <td>0.02252</td>\n",
       "    </tr>\n",
       "    <tr>\n",
       "      <th>3186</th>\n",
       "      <td>Node1</td>\n",
       "      <td>5</td>\n",
       "      <td>1</td>\n",
       "      <td>A</td>\n",
       "      <td>0.99999</td>\n",
       "      <td>0.00000</td>\n",
       "      <td>0.00001</td>\n",
       "      <td>0.00000</td>\n",
       "    </tr>\n",
       "  </tbody>\n",
       "</table>\n",
       "</div>"
      ],
      "text/plain": [
       "       Node  Part  Site State      p_A      p_C      p_G      p_T\n",
       "0     Node1     1     1     A  0.96190  0.00923  0.02219  0.00668\n",
       "705   Node1     2     1     A  0.99999  0.00000  0.00001  0.00000\n",
       "909   Node1     3     1     A  0.99840  0.00011  0.00142  0.00008\n",
       "2478  Node1     4     1     A  0.88981  0.03113  0.05654  0.02252\n",
       "3186  Node1     5     1     A  0.99999  0.00000  0.00001  0.00000"
      ]
     },
     "execution_count": 13,
     "metadata": {},
     "output_type": "execute_result"
    }
   ],
   "source": [
    "anc.head()\n"
   ]
  },
  {
   "cell_type": "code",
   "execution_count": 14,
   "metadata": {},
   "outputs": [
    {
     "data": {
      "text/plain": [
       "array([   1,    2,    3, ..., 1918, 1919, 1920], dtype=int32)"
      ]
     },
     "execution_count": 14,
     "metadata": {},
     "output_type": "execute_result"
    }
   ],
   "source": [
    "np.tile(one_leaf.Site.values, replication_factor)\n"
   ]
  },
  {
   "cell_type": "code",
   "execution_count": 108,
   "metadata": {},
   "outputs": [
    {
     "data": {
      "text/html": [
       "<div>\n",
       "<style scoped>\n",
       "    .dataframe tbody tr th:only-of-type {\n",
       "        vertical-align: middle;\n",
       "    }\n",
       "\n",
       "    .dataframe tbody tr th {\n",
       "        vertical-align: top;\n",
       "    }\n",
       "\n",
       "    .dataframe thead th {\n",
       "        text-align: right;\n",
       "    }\n",
       "</style>\n",
       "<table border=\"1\" class=\"dataframe\">\n",
       "  <thead>\n",
       "    <tr style=\"text-align: right;\">\n",
       "      <th></th>\n",
       "      <th>Node</th>\n",
       "      <th>Site</th>\n",
       "      <th>State</th>\n",
       "      <th>p_A</th>\n",
       "      <th>p_C</th>\n",
       "      <th>p_G</th>\n",
       "      <th>p_T</th>\n",
       "      <th>Part</th>\n",
       "    </tr>\n",
       "  </thead>\n",
       "  <tbody>\n",
       "    <tr>\n",
       "      <th>8618325</th>\n",
       "      <td>Node1</td>\n",
       "      <td>1</td>\n",
       "      <td>A</td>\n",
       "      <td>0.96190</td>\n",
       "      <td>0.00923</td>\n",
       "      <td>0.02219</td>\n",
       "      <td>0.00668</td>\n",
       "      <td>1</td>\n",
       "    </tr>\n",
       "    <tr>\n",
       "      <th>8618326</th>\n",
       "      <td>Node1</td>\n",
       "      <td>2</td>\n",
       "      <td>T</td>\n",
       "      <td>0.00800</td>\n",
       "      <td>0.05699</td>\n",
       "      <td>0.00347</td>\n",
       "      <td>0.93154</td>\n",
       "      <td>1</td>\n",
       "    </tr>\n",
       "    <tr>\n",
       "      <th>8618327</th>\n",
       "      <td>Node1</td>\n",
       "      <td>3</td>\n",
       "      <td>G</td>\n",
       "      <td>0.04505</td>\n",
       "      <td>0.00893</td>\n",
       "      <td>0.93955</td>\n",
       "      <td>0.00646</td>\n",
       "      <td>1</td>\n",
       "    </tr>\n",
       "    <tr>\n",
       "      <th>8618328</th>\n",
       "      <td>Node1</td>\n",
       "      <td>4</td>\n",
       "      <td>A</td>\n",
       "      <td>0.99358</td>\n",
       "      <td>0.00052</td>\n",
       "      <td>0.00553</td>\n",
       "      <td>0.00037</td>\n",
       "      <td>1</td>\n",
       "    </tr>\n",
       "    <tr>\n",
       "      <th>8618329</th>\n",
       "      <td>Node1</td>\n",
       "      <td>5</td>\n",
       "      <td>A</td>\n",
       "      <td>0.83463</td>\n",
       "      <td>0.03430</td>\n",
       "      <td>0.01926</td>\n",
       "      <td>0.11182</td>\n",
       "      <td>1</td>\n",
       "    </tr>\n",
       "  </tbody>\n",
       "</table>\n",
       "</div>"
      ],
      "text/plain": [
       "          Node  Site State      p_A      p_C      p_G      p_T  Part\n",
       "8618325  Node1     1     A  0.96190  0.00923  0.02219  0.00668     1\n",
       "8618326  Node1     2     T  0.00800  0.05699  0.00347  0.93154     1\n",
       "8618327  Node1     3     G  0.04505  0.00893  0.93955  0.00646     1\n",
       "8618328  Node1     4     A  0.99358  0.00052  0.00553  0.00037     1\n",
       "8618329  Node1     5     A  0.83463  0.03430  0.01926  0.11182     1"
      ]
     },
     "execution_count": 108,
     "metadata": {},
     "output_type": "execute_result"
    }
   ],
   "source": [
    "anc[\"Part\"] = np.tile(one_leaf.Part.values, replication_factor)\n",
    "anc[\"Site\"] = np.tile(one_leaf.Site.values, replication_factor)\n",
    "anc.head()\n"
   ]
  },
  {
   "cell_type": "code",
   "execution_count": 109,
   "metadata": {},
   "outputs": [
    {
     "name": "stdout",
     "output_type": "stream",
     "text": [
      "<class 'pandas.core.frame.DataFrame'>\n",
      "RangeIndex: 8652300 entries, 0 to 8652299\n",
      "Data columns (total 8 columns):\n",
      " #   Column  Dtype  \n",
      "---  ------  -----  \n",
      " 0   Node    object \n",
      " 1   Part    int64  \n",
      " 2   Site    int32  \n",
      " 3   State   object \n",
      " 4   p_A     float32\n",
      " 5   p_C     float32\n",
      " 6   p_G     float32\n",
      " 7   p_T     float32\n",
      "dtypes: float32(4), int32(1), int64(1), object(2)\n",
      "memory usage: 363.1+ MB\n"
     ]
    }
   ],
   "source": [
    "leaves.info()\n"
   ]
  },
  {
   "cell_type": "code",
   "execution_count": 112,
   "metadata": {},
   "outputs": [
    {
     "name": "stdout",
     "output_type": "stream",
     "text": [
      "<class 'pandas.core.frame.DataFrame'>\n",
      "Int64Index: 8629650 entries, 8618325 to 872024\n",
      "Data columns (total 8 columns):\n",
      " #   Column  Dtype  \n",
      "---  ------  -----  \n",
      " 0   Node    object \n",
      " 1   Site    int32  \n",
      " 2   State   object \n",
      " 3   p_A     float32\n",
      " 4   p_C     float32\n",
      " 5   p_G     float32\n",
      " 6   p_T     float32\n",
      " 7   Part    int64  \n",
      "dtypes: float32(4), int32(1), int64(1), object(2)\n",
      "memory usage: 428.0+ MB\n"
     ]
    }
   ],
   "source": [
    "anc.info()\n"
   ]
  },
  {
   "cell_type": "code",
   "execution_count": 113,
   "metadata": {},
   "outputs": [
    {
     "data": {
      "text/plain": [
       "True"
      ]
     },
     "execution_count": 113,
     "metadata": {},
     "output_type": "execute_result"
    }
   ],
   "source": [
    "anc.Node.str.startswith(\"Node\").sum() == anc.shape[0]\n"
   ]
  },
  {
   "cell_type": "code",
   "execution_count": 124,
   "metadata": {},
   "outputs": [],
   "source": [
    "anc.to_csv(\"../data/interim/anc_kg_states_birds.tsv\", sep=\"\\t\", index=None)\n"
   ]
  },
  {
   "cell_type": "code",
   "execution_count": 114,
   "metadata": {},
   "outputs": [
    {
     "name": "stdout",
     "output_type": "stream",
     "text": [
      "(17281950, 8)\n"
     ]
    },
    {
     "data": {
      "text/html": [
       "<div>\n",
       "<style scoped>\n",
       "    .dataframe tbody tr th:only-of-type {\n",
       "        vertical-align: middle;\n",
       "    }\n",
       "\n",
       "    .dataframe tbody tr th {\n",
       "        vertical-align: top;\n",
       "    }\n",
       "\n",
       "    .dataframe thead th {\n",
       "        text-align: right;\n",
       "    }\n",
       "</style>\n",
       "<table border=\"1\" class=\"dataframe\">\n",
       "  <thead>\n",
       "    <tr style=\"text-align: right;\">\n",
       "      <th></th>\n",
       "      <th>Node</th>\n",
       "      <th>Site</th>\n",
       "      <th>State</th>\n",
       "      <th>p_A</th>\n",
       "      <th>p_C</th>\n",
       "      <th>p_G</th>\n",
       "      <th>p_T</th>\n",
       "      <th>Part</th>\n",
       "    </tr>\n",
       "  </thead>\n",
       "  <tbody>\n",
       "    <tr>\n",
       "      <th>0</th>\n",
       "      <td>Acanthisitta_chloris</td>\n",
       "      <td>1</td>\n",
       "      <td>-</td>\n",
       "      <td>0.0</td>\n",
       "      <td>0.0</td>\n",
       "      <td>0.0</td>\n",
       "      <td>0.0</td>\n",
       "      <td>1</td>\n",
       "    </tr>\n",
       "    <tr>\n",
       "      <th>1</th>\n",
       "      <td>Acanthisitta_chloris</td>\n",
       "      <td>2</td>\n",
       "      <td>-</td>\n",
       "      <td>0.0</td>\n",
       "      <td>0.0</td>\n",
       "      <td>0.0</td>\n",
       "      <td>0.0</td>\n",
       "      <td>1</td>\n",
       "    </tr>\n",
       "    <tr>\n",
       "      <th>2</th>\n",
       "      <td>Acanthisitta_chloris</td>\n",
       "      <td>3</td>\n",
       "      <td>-</td>\n",
       "      <td>0.0</td>\n",
       "      <td>0.0</td>\n",
       "      <td>0.0</td>\n",
       "      <td>0.0</td>\n",
       "      <td>1</td>\n",
       "    </tr>\n",
       "    <tr>\n",
       "      <th>3</th>\n",
       "      <td>Acanthisitta_chloris</td>\n",
       "      <td>4</td>\n",
       "      <td>-</td>\n",
       "      <td>0.0</td>\n",
       "      <td>0.0</td>\n",
       "      <td>0.0</td>\n",
       "      <td>0.0</td>\n",
       "      <td>1</td>\n",
       "    </tr>\n",
       "    <tr>\n",
       "      <th>4</th>\n",
       "      <td>Acanthisitta_chloris</td>\n",
       "      <td>5</td>\n",
       "      <td>-</td>\n",
       "      <td>0.0</td>\n",
       "      <td>0.0</td>\n",
       "      <td>0.0</td>\n",
       "      <td>0.0</td>\n",
       "      <td>1</td>\n",
       "    </tr>\n",
       "  </tbody>\n",
       "</table>\n",
       "</div>"
      ],
      "text/plain": [
       "                   Node  Site State  p_A  p_C  p_G  p_T  Part\n",
       "0  Acanthisitta_chloris     1     -  0.0  0.0  0.0  0.0     1\n",
       "1  Acanthisitta_chloris     2     -  0.0  0.0  0.0  0.0     1\n",
       "2  Acanthisitta_chloris     3     -  0.0  0.0  0.0  0.0     1\n",
       "3  Acanthisitta_chloris     4     -  0.0  0.0  0.0  0.0     1\n",
       "4  Acanthisitta_chloris     5     -  0.0  0.0  0.0  0.0     1"
      ]
     },
     "execution_count": 114,
     "metadata": {},
     "output_type": "execute_result"
    }
   ],
   "source": [
    "states = pd.concat([anc, leaves]).sort_values([\"Node\", \"Part\", \"Site\"])\n",
    "print(states.shape)\n",
    "states.head()\n"
   ]
  },
  {
   "cell_type": "code",
   "execution_count": 115,
   "metadata": {},
   "outputs": [
    {
     "name": "stdout",
     "output_type": "stream",
     "text": [
      "<class 'pandas.core.frame.DataFrame'>\n",
      "Int64Index: 17281950 entries, 0 to 8362211\n",
      "Data columns (total 8 columns):\n",
      " #   Column  Dtype  \n",
      "---  ------  -----  \n",
      " 0   Node    object \n",
      " 1   Site    int32  \n",
      " 2   State   object \n",
      " 3   p_A     float32\n",
      " 4   p_C     float32\n",
      " 5   p_G     float32\n",
      " 6   p_T     float32\n",
      " 7   Part    int64  \n",
      "dtypes: float32(4), int32(1), int64(1), object(2)\n",
      "memory usage: 857.0+ MB\n"
     ]
    }
   ],
   "source": [
    "states.info()\n"
   ]
  },
  {
   "cell_type": "code",
   "execution_count": 15,
   "metadata": {},
   "outputs": [
    {
     "data": {
      "text/plain": [
       "<matplotlib.legend.Legend at 0x7f4e48918ee0>"
      ]
     },
     "execution_count": 15,
     "metadata": {},
     "output_type": "execute_result"
    },
    {
     "data": {
      "image/png": "[encoded data removed]",
      "text/plain": [
       "<Figure size 432x288 with 1 Axes>"
      ]
     },
     "metadata": {
      "needs_background": "light"
     },
     "output_type": "display_data"
    }
   ],
   "source": [
    "anc.p_A.hist(alpha=.3, label=\"A\")\n",
    "anc.p_C.hist(alpha=.3, label=\"C\")\n",
    "anc.p_G.hist(alpha=.3, label=\"G\")\n",
    "anc.p_T.hist(alpha=.3, label=\"T\")\n",
    "plt.legend()\n"
   ]
  },
  {
   "cell_type": "markdown",
   "metadata": {},
   "source": [
    "## 10% of positions are uncertain"
   ]
  },
  {
   "cell_type": "code",
   "execution_count": 16,
   "metadata": {},
   "outputs": [
    {
     "data": {
      "text/plain": [
       "True     0.953422\n",
       "False    0.046578\n",
       "dtype: float64"
      ]
     },
     "execution_count": 16,
     "metadata": {},
     "output_type": "execute_result"
    }
   ],
   "source": [
    "np.any(anc[[\"p_A\", \"p_C\", \"p_G\", \"p_T\"]] > 0.8, 1).value_counts(normalize=True)\n"
   ]
  },
  {
   "cell_type": "code",
   "execution_count": 17,
   "metadata": {},
   "outputs": [
    {
     "data": {
      "text/plain": [
       "Text(0.5, 1.0, 'Entropy')"
      ]
     },
     "execution_count": 17,
     "metadata": {},
     "output_type": "execute_result"
    },
    {
     "data": {
      "image/png": "[encoded data removed]",
      "text/plain": [
       "<Figure size 432x288 with 1 Axes>"
      ]
     },
     "metadata": {
      "needs_background": "light"
     },
     "output_type": "display_data"
    }
   ],
   "source": [
    "mentr = entropy(anc[[\"p_A\", \"p_C\", \"p_G\", \"p_T\"]].values, axis=1)\n",
    "plt.hist(mentr, bins=50)\n",
    "plt.title(\"Entropy\")\n"
   ]
  },
  {
   "cell_type": "code",
   "execution_count": 121,
   "metadata": {},
   "outputs": [
    {
     "data": {
      "image/png": "[encoded data removed]",
      "text/plain": [
       "<Figure size 432x288 with 1 Axes>"
      ]
     },
     "metadata": {
      "needs_background": "light"
     },
     "output_type": "display_data"
    }
   ],
   "source": [
    "anc.State.value_counts().plot.bar()\n"
   ]
  },
  {
   "cell_type": "code",
   "execution_count": null,
   "metadata": {},
   "outputs": [],
   "source": []
  },
  {
   "cell_type": "markdown",
   "metadata": {},
   "source": [
    "## MUTSPEC"
   ]
  },
  {
   "cell_type": "code",
   "execution_count": 18,
   "metadata": {},
   "outputs": [],
   "source": [
    "import re\n",
    "from queue import Queue\n",
    "from typing import Iterable\n",
    "from collections import defaultdict\n",
    "from itertools import groupby\n",
    "\n",
    "\n",
    "import numpy as np\n",
    "import pandas as pd\n",
    "import matplotlib.pyplot as plt\n",
    "import seaborn as sns\n",
    "import ete3\n",
    "from ete3 import PhyloTree\n",
    "from scipy.stats import entropy\n",
    "\n",
    "from Bio.Data import CodonTable\n"
   ]
  },
  {
   "cell_type": "code",
   "execution_count": 4,
   "metadata": {},
   "outputs": [],
   "source": [
    "# label = \"birds_24-03-22-20-56-51\"\n",
    "label = \"birds_31-03-22-21-08-54\""
   ]
  },
  {
   "cell_type": "code",
   "execution_count": 22,
   "metadata": {},
   "outputs": [],
   "source": [
    "_path = \"../data/processed/birds/20-05-22-17-24-26\"\n",
    "mutations = pd.read_csv(f\"{_path}/mutations.csv\", sep=\"\\t\")\n",
    "edge_mutspec12 = pd.read_csv(f\"{_path}/mutspec12.csv\", sep=\"\\t\")\n",
    "edge_mutspec192 = pd.read_csv(f\"{_path}/mutspec192.csv\", sep=\"\\t\")"
   ]
  },
  {
   "cell_type": "code",
   "execution_count": 26,
   "metadata": {},
   "outputs": [
    {
     "data": {
      "text/html": [
       "<div>\n",
       "<style scoped>\n",
       "    .dataframe tbody tr th:only-of-type {\n",
       "        vertical-align: middle;\n",
       "    }\n",
       "\n",
       "    .dataframe tbody tr th {\n",
       "        vertical-align: top;\n",
       "    }\n",
       "\n",
       "    .dataframe thead th {\n",
       "        text-align: right;\n",
       "    }\n",
       "</style>\n",
       "<table border=\"1\" class=\"dataframe\">\n",
       "  <thead>\n",
       "    <tr style=\"text-align: right;\">\n",
       "      <th></th>\n",
       "      <th>Mut</th>\n",
       "      <th>Label</th>\n",
       "      <th>PosInGene</th>\n",
       "      <th>PosInCodon</th>\n",
       "      <th>RefCodon</th>\n",
       "      <th>AltCodon</th>\n",
       "      <th>RefAa</th>\n",
       "      <th>AltAa</th>\n",
       "      <th>RefNode</th>\n",
       "      <th>AltNode</th>\n",
       "      <th>Gene</th>\n",
       "    </tr>\n",
       "  </thead>\n",
       "  <tbody>\n",
       "    <tr>\n",
       "      <th>0</th>\n",
       "      <td>A[A&gt;T]C</td>\n",
       "      <td>0</td>\n",
       "      <td>17</td>\n",
       "      <td>2</td>\n",
       "      <td>AAC</td>\n",
       "      <td>ATC</td>\n",
       "      <td>N</td>\n",
       "      <td>I</td>\n",
       "      <td>Node1</td>\n",
       "      <td>Acanthisitta_chloris</td>\n",
       "      <td>1</td>\n",
       "    </tr>\n",
       "    <tr>\n",
       "      <th>1</th>\n",
       "      <td>T[C&gt;T]G</td>\n",
       "      <td>1</td>\n",
       "      <td>30</td>\n",
       "      <td>3</td>\n",
       "      <td>TTC</td>\n",
       "      <td>TTT</td>\n",
       "      <td>F</td>\n",
       "      <td>F</td>\n",
       "      <td>Node1</td>\n",
       "      <td>Acanthisitta_chloris</td>\n",
       "      <td>1</td>\n",
       "    </tr>\n",
       "    <tr>\n",
       "      <th>2</th>\n",
       "      <td>T[C&gt;T]C</td>\n",
       "      <td>1</td>\n",
       "      <td>63</td>\n",
       "      <td>3</td>\n",
       "      <td>ATC</td>\n",
       "      <td>ATT</td>\n",
       "      <td>I</td>\n",
       "      <td>I</td>\n",
       "      <td>Node1</td>\n",
       "      <td>Acanthisitta_chloris</td>\n",
       "      <td>1</td>\n",
       "    </tr>\n",
       "    <tr>\n",
       "      <th>3</th>\n",
       "      <td>C[A&gt;T]C</td>\n",
       "      <td>2</td>\n",
       "      <td>66</td>\n",
       "      <td>3</td>\n",
       "      <td>CCA</td>\n",
       "      <td>CCT</td>\n",
       "      <td>P</td>\n",
       "      <td>P</td>\n",
       "      <td>Node1</td>\n",
       "      <td>Acanthisitta_chloris</td>\n",
       "      <td>1</td>\n",
       "    </tr>\n",
       "    <tr>\n",
       "      <th>4</th>\n",
       "      <td>C[C&gt;A]A</td>\n",
       "      <td>2</td>\n",
       "      <td>111</td>\n",
       "      <td>3</td>\n",
       "      <td>CCC</td>\n",
       "      <td>CCA</td>\n",
       "      <td>P</td>\n",
       "      <td>P</td>\n",
       "      <td>Node1</td>\n",
       "      <td>Acanthisitta_chloris</td>\n",
       "      <td>1</td>\n",
       "    </tr>\n",
       "  </tbody>\n",
       "</table>\n",
       "</div>"
      ],
      "text/plain": [
       "       Mut  Label  PosInGene  PosInCodon RefCodon AltCodon RefAa AltAa  \\\n",
       "0  A[A>T]C      0         17           2      AAC      ATC     N     I   \n",
       "1  T[C>T]G      1         30           3      TTC      TTT     F     F   \n",
       "2  T[C>T]C      1         63           3      ATC      ATT     I     I   \n",
       "3  C[A>T]C      2         66           3      CCA      CCT     P     P   \n",
       "4  C[C>A]A      2        111           3      CCC      CCA     P     P   \n",
       "\n",
       "  RefNode               AltNode  Gene  \n",
       "0   Node1  Acanthisitta_chloris     1  \n",
       "1   Node1  Acanthisitta_chloris     1  \n",
       "2   Node1  Acanthisitta_chloris     1  \n",
       "3   Node1  Acanthisitta_chloris     1  \n",
       "4   Node1  Acanthisitta_chloris     1  "
      ]
     },
     "execution_count": 26,
     "metadata": {},
     "output_type": "execute_result"
    }
   ],
   "source": [
    "mutations.head()\n"
   ]
  },
  {
   "cell_type": "code",
   "execution_count": 25,
   "metadata": {},
   "outputs": [
    {
     "data": {
      "text/plain": [
       "(498035, 11)"
      ]
     },
     "execution_count": 25,
     "metadata": {},
     "output_type": "execute_result"
    }
   ],
   "source": [
    "mutations.shape"
   ]
  },
  {
   "cell_type": "markdown",
   "metadata": {},
   "source": [
    "### QC of reconstructed ancestral sequences \n",
    "using extracted mutations"
   ]
  },
  {
   "cell_type": "markdown",
   "metadata": {},
   "source": [
    "**1 Distribution of edge mutation number**"
   ]
  },
  {
   "cell_type": "code",
   "execution_count": 27,
   "metadata": {},
   "outputs": [
    {
     "data": {
      "image/png": "[encoded data removed]",
      "text/plain": [
       "<Figure size 432x288 with 1 Axes>"
      ]
     },
     "metadata": {
      "needs_background": "light"
     },
     "output_type": "display_data"
    }
   ],
   "source": [
    "edge_mut_num = mutations.groupby(\"AltNode\").apply(len)\n",
    "of_genome_10percent = mutations.groupby(\"Gene\")[\"PosInGene\"].max().sum() / 10\n",
    "\n",
    "edge_mut_num.hist(bins=30)\n",
    "plt.vlines([of_genome_10percent], 0, 150, \"r\", \"dashed\", label=\"10% of the genome size\")\n",
    "plt.title(\"Distribution of edge mutation number\")\n",
    "plt.legend()\n",
    "plt.show()"
   ]
  },
  {
   "cell_type": "markdown",
   "metadata": {},
   "source": [
    "**2 Look at nonsense mutations (AA>\\* or \\*>AA)**"
   ]
  },
  {
   "cell_type": "code",
   "execution_count": 28,
   "metadata": {},
   "outputs": [
    {
     "name": "stdout",
     "output_type": "stream",
     "text": [
      "Number of mutations: 498035\n"
     ]
    }
   ],
   "source": [
    "print(\"Number of mutations:\", mutations.shape[0])"
   ]
  },
  {
   "cell_type": "code",
   "execution_count": 30,
   "metadata": {},
   "outputs": [
    {
     "data": {
      "text/html": [
       "<div>\n",
       "<style scoped>\n",
       "    .dataframe tbody tr th:only-of-type {\n",
       "        vertical-align: middle;\n",
       "    }\n",
       "\n",
       "    .dataframe tbody tr th {\n",
       "        vertical-align: top;\n",
       "    }\n",
       "\n",
       "    .dataframe thead th {\n",
       "        text-align: right;\n",
       "    }\n",
       "</style>\n",
       "<table border=\"1\" class=\"dataframe\">\n",
       "  <thead>\n",
       "    <tr style=\"text-align: right;\">\n",
       "      <th></th>\n",
       "      <th>Mut</th>\n",
       "      <th>Label</th>\n",
       "      <th>PosInGene</th>\n",
       "      <th>PosInCodon</th>\n",
       "      <th>RefCodon</th>\n",
       "      <th>AltCodon</th>\n",
       "      <th>RefAa</th>\n",
       "      <th>AltAa</th>\n",
       "      <th>RefNode</th>\n",
       "      <th>AltNode</th>\n",
       "      <th>Gene</th>\n",
       "    </tr>\n",
       "  </thead>\n",
       "  <tbody>\n",
       "    <tr>\n",
       "      <th>7456</th>\n",
       "      <td>A[C&gt;A]T</td>\n",
       "      <td>-1</td>\n",
       "      <td>657</td>\n",
       "      <td>3</td>\n",
       "      <td>TAC</td>\n",
       "      <td>TAA</td>\n",
       "      <td>Y</td>\n",
       "      <td>*</td>\n",
       "      <td>Node366</td>\n",
       "      <td>Node369</td>\n",
       "      <td>10</td>\n",
       "    </tr>\n",
       "    <tr>\n",
       "      <th>51900</th>\n",
       "      <td>A[A&gt;G]A</td>\n",
       "      <td>-1</td>\n",
       "      <td>17</td>\n",
       "      <td>2</td>\n",
       "      <td>AAA</td>\n",
       "      <td>AGA</td>\n",
       "      <td>K</td>\n",
       "      <td>*</td>\n",
       "      <td>Node635</td>\n",
       "      <td>Node648</td>\n",
       "      <td>8</td>\n",
       "    </tr>\n",
       "    <tr>\n",
       "      <th>73480</th>\n",
       "      <td>G[A&gt;C]C</td>\n",
       "      <td>-1</td>\n",
       "      <td>18</td>\n",
       "      <td>3</td>\n",
       "      <td>AGA</td>\n",
       "      <td>AGC</td>\n",
       "      <td>*</td>\n",
       "      <td>S</td>\n",
       "      <td>Node648</td>\n",
       "      <td>Node649</td>\n",
       "      <td>8</td>\n",
       "    </tr>\n",
       "    <tr>\n",
       "      <th>74193</th>\n",
       "      <td>A[G&gt;C]A</td>\n",
       "      <td>-1</td>\n",
       "      <td>17</td>\n",
       "      <td>2</td>\n",
       "      <td>AGA</td>\n",
       "      <td>ACA</td>\n",
       "      <td>*</td>\n",
       "      <td>T</td>\n",
       "      <td>Node648</td>\n",
       "      <td>Heliornis_fulica</td>\n",
       "      <td>8</td>\n",
       "    </tr>\n",
       "    <tr>\n",
       "      <th>136658</th>\n",
       "      <td>T[T&gt;A]A</td>\n",
       "      <td>-1</td>\n",
       "      <td>1499</td>\n",
       "      <td>2</td>\n",
       "      <td>TTA</td>\n",
       "      <td>TAA</td>\n",
       "      <td>L</td>\n",
       "      <td>*</td>\n",
       "      <td>Node650</td>\n",
       "      <td>Node651</td>\n",
       "      <td>10</td>\n",
       "    </tr>\n",
       "    <tr>\n",
       "      <th>151836</th>\n",
       "      <td>C[C&gt;T]A</td>\n",
       "      <td>-1</td>\n",
       "      <td>16</td>\n",
       "      <td>1</td>\n",
       "      <td>CAA</td>\n",
       "      <td>TAA</td>\n",
       "      <td>Q</td>\n",
       "      <td>*</td>\n",
       "      <td>Node383</td>\n",
       "      <td>Node384</td>\n",
       "      <td>7</td>\n",
       "    </tr>\n",
       "    <tr>\n",
       "      <th>162523</th>\n",
       "      <td>C[A&gt;T]A</td>\n",
       "      <td>-1</td>\n",
       "      <td>1147</td>\n",
       "      <td>1</td>\n",
       "      <td>AAA</td>\n",
       "      <td>TAA</td>\n",
       "      <td>K</td>\n",
       "      <td>*</td>\n",
       "      <td>Node522</td>\n",
       "      <td>Node525</td>\n",
       "      <td>6</td>\n",
       "    </tr>\n",
       "    <tr>\n",
       "      <th>203690</th>\n",
       "      <td>A[T&gt;A]A</td>\n",
       "      <td>-1</td>\n",
       "      <td>1146</td>\n",
       "      <td>3</td>\n",
       "      <td>TAT</td>\n",
       "      <td>TAA</td>\n",
       "      <td>Y</td>\n",
       "      <td>*</td>\n",
       "      <td>Node594</td>\n",
       "      <td>Node595</td>\n",
       "      <td>6</td>\n",
       "    </tr>\n",
       "    <tr>\n",
       "      <th>235287</th>\n",
       "      <td>A[A&gt;C]C</td>\n",
       "      <td>-1</td>\n",
       "      <td>18</td>\n",
       "      <td>3</td>\n",
       "      <td>TAA</td>\n",
       "      <td>TAC</td>\n",
       "      <td>*</td>\n",
       "      <td>Y</td>\n",
       "      <td>Node385</td>\n",
       "      <td>Node386</td>\n",
       "      <td>7</td>\n",
       "    </tr>\n",
       "    <tr>\n",
       "      <th>235563</th>\n",
       "      <td>T[A&gt;G]A</td>\n",
       "      <td>-1</td>\n",
       "      <td>17</td>\n",
       "      <td>2</td>\n",
       "      <td>TAA</td>\n",
       "      <td>TGA</td>\n",
       "      <td>*</td>\n",
       "      <td>W</td>\n",
       "      <td>Node385</td>\n",
       "      <td>Node388</td>\n",
       "      <td>7</td>\n",
       "    </tr>\n",
       "    <tr>\n",
       "      <th>247507</th>\n",
       "      <td>A[C&gt;A]A</td>\n",
       "      <td>-1</td>\n",
       "      <td>1146</td>\n",
       "      <td>3</td>\n",
       "      <td>TAC</td>\n",
       "      <td>TAA</td>\n",
       "      <td>Y</td>\n",
       "      <td>*</td>\n",
       "      <td>Node590</td>\n",
       "      <td>Node591</td>\n",
       "      <td>6</td>\n",
       "    </tr>\n",
       "    <tr>\n",
       "      <th>249418</th>\n",
       "      <td>T[A&gt;T]A</td>\n",
       "      <td>-1</td>\n",
       "      <td>1145</td>\n",
       "      <td>2</td>\n",
       "      <td>TAA</td>\n",
       "      <td>TTA</td>\n",
       "      <td>*</td>\n",
       "      <td>L</td>\n",
       "      <td>Node595</td>\n",
       "      <td>Node596</td>\n",
       "      <td>6</td>\n",
       "    </tr>\n",
       "    <tr>\n",
       "      <th>261465</th>\n",
       "      <td>A[C&gt;A]C</td>\n",
       "      <td>-1</td>\n",
       "      <td>123</td>\n",
       "      <td>3</td>\n",
       "      <td>TAC</td>\n",
       "      <td>TAA</td>\n",
       "      <td>Y</td>\n",
       "      <td>*</td>\n",
       "      <td>Node70</td>\n",
       "      <td>Node71</td>\n",
       "      <td>5</td>\n",
       "    </tr>\n",
       "    <tr>\n",
       "      <th>287001</th>\n",
       "      <td>A[A&gt;T]C</td>\n",
       "      <td>-1</td>\n",
       "      <td>123</td>\n",
       "      <td>3</td>\n",
       "      <td>TAA</td>\n",
       "      <td>TAT</td>\n",
       "      <td>*</td>\n",
       "      <td>Y</td>\n",
       "      <td>Node71</td>\n",
       "      <td>Phainopepla_nitens</td>\n",
       "      <td>5</td>\n",
       "    </tr>\n",
       "    <tr>\n",
       "      <th>308418</th>\n",
       "      <td>T[A&gt;C]A</td>\n",
       "      <td>-1</td>\n",
       "      <td>1145</td>\n",
       "      <td>2</td>\n",
       "      <td>TAA</td>\n",
       "      <td>TCA</td>\n",
       "      <td>*</td>\n",
       "      <td>S</td>\n",
       "      <td>Node592</td>\n",
       "      <td>Crypturellus_cinnamomeus</td>\n",
       "      <td>6</td>\n",
       "    </tr>\n",
       "    <tr>\n",
       "      <th>424826</th>\n",
       "      <td>C[C&gt;T]A</td>\n",
       "      <td>-1</td>\n",
       "      <td>697</td>\n",
       "      <td>1</td>\n",
       "      <td>CAA</td>\n",
       "      <td>TAA</td>\n",
       "      <td>Q</td>\n",
       "      <td>*</td>\n",
       "      <td>Node83</td>\n",
       "      <td>Node84</td>\n",
       "      <td>4</td>\n",
       "    </tr>\n",
       "    <tr>\n",
       "      <th>447604</th>\n",
       "      <td>T[A&gt;C]A</td>\n",
       "      <td>-1</td>\n",
       "      <td>698</td>\n",
       "      <td>2</td>\n",
       "      <td>TAA</td>\n",
       "      <td>TCA</td>\n",
       "      <td>*</td>\n",
       "      <td>S</td>\n",
       "      <td>Node85</td>\n",
       "      <td>Node86</td>\n",
       "      <td>4</td>\n",
       "    </tr>\n",
       "  </tbody>\n",
       "</table>\n",
       "</div>"
      ],
      "text/plain": [
       "            Mut  Label  PosInGene  PosInCodon RefCodon AltCodon RefAa AltAa  \\\n",
       "7456    A[C>A]T     -1        657           3      TAC      TAA     Y     *   \n",
       "51900   A[A>G]A     -1         17           2      AAA      AGA     K     *   \n",
       "73480   G[A>C]C     -1         18           3      AGA      AGC     *     S   \n",
       "74193   A[G>C]A     -1         17           2      AGA      ACA     *     T   \n",
       "136658  T[T>A]A     -1       1499           2      TTA      TAA     L     *   \n",
       "151836  C[C>T]A     -1         16           1      CAA      TAA     Q     *   \n",
       "162523  C[A>T]A     -1       1147           1      AAA      TAA     K     *   \n",
       "203690  A[T>A]A     -1       1146           3      TAT      TAA     Y     *   \n",
       "235287  A[A>C]C     -1         18           3      TAA      TAC     *     Y   \n",
       "235563  T[A>G]A     -1         17           2      TAA      TGA     *     W   \n",
       "247507  A[C>A]A     -1       1146           3      TAC      TAA     Y     *   \n",
       "249418  T[A>T]A     -1       1145           2      TAA      TTA     *     L   \n",
       "261465  A[C>A]C     -1        123           3      TAC      TAA     Y     *   \n",
       "287001  A[A>T]C     -1        123           3      TAA      TAT     *     Y   \n",
       "308418  T[A>C]A     -1       1145           2      TAA      TCA     *     S   \n",
       "424826  C[C>T]A     -1        697           1      CAA      TAA     Q     *   \n",
       "447604  T[A>C]A     -1        698           2      TAA      TCA     *     S   \n",
       "\n",
       "        RefNode                   AltNode  Gene  \n",
       "7456    Node366                   Node369    10  \n",
       "51900   Node635                   Node648     8  \n",
       "73480   Node648                   Node649     8  \n",
       "74193   Node648          Heliornis_fulica     8  \n",
       "136658  Node650                   Node651    10  \n",
       "151836  Node383                   Node384     7  \n",
       "162523  Node522                   Node525     6  \n",
       "203690  Node594                   Node595     6  \n",
       "235287  Node385                   Node386     7  \n",
       "235563  Node385                   Node388     7  \n",
       "247507  Node590                   Node591     6  \n",
       "249418  Node595                   Node596     6  \n",
       "261465   Node70                    Node71     5  \n",
       "287001   Node71        Phainopepla_nitens     5  \n",
       "308418  Node592  Crypturellus_cinnamomeus     6  \n",
       "424826   Node83                    Node84     4  \n",
       "447604   Node85                    Node86     4  "
      ]
     },
     "execution_count": 30,
     "metadata": {},
     "output_type": "execute_result"
    }
   ],
   "source": [
    "nonsense_muts = mutations[\n",
    "    (mutations.Label < 0) & \n",
    "    (mutations.Mut.str.fullmatch(\"[ACGT]\\[[ACGT]>[ACGT]\\][ACGT]\"))\n",
    "]\n",
    "nonsense_muts"
   ]
  },
  {
   "cell_type": "code",
   "execution_count": 31,
   "metadata": {},
   "outputs": [],
   "source": [
    "genes_order = \"ATP6 ATP8 COX1 COX2 COX3 CYTB ND1 ND2 ND3 ND4 ND4L ND5\".split()"
   ]
  },
  {
   "cell_type": "code",
   "execution_count": 33,
   "metadata": {},
   "outputs": [
    {
     "data": {
      "text/html": [
       "<div>\n",
       "<style scoped>\n",
       "    .dataframe tbody tr th:only-of-type {\n",
       "        vertical-align: middle;\n",
       "    }\n",
       "\n",
       "    .dataframe tbody tr th {\n",
       "        vertical-align: top;\n",
       "    }\n",
       "\n",
       "    .dataframe thead th {\n",
       "        text-align: right;\n",
       "    }\n",
       "</style>\n",
       "<table border=\"1\" class=\"dataframe\">\n",
       "  <thead>\n",
       "    <tr style=\"text-align: right;\">\n",
       "      <th>Label</th>\n",
       "      <th>syn</th>\n",
       "      <th>ffd</th>\n",
       "      <th>other</th>\n",
       "      <th>nns</th>\n",
       "    </tr>\n",
       "    <tr>\n",
       "      <th>Gene</th>\n",
       "      <th></th>\n",
       "      <th></th>\n",
       "      <th></th>\n",
       "      <th></th>\n",
       "    </tr>\n",
       "  </thead>\n",
       "  <tbody>\n",
       "    <tr>\n",
       "      <th>ATP6</th>\n",
       "      <td>9315</td>\n",
       "      <td>19085</td>\n",
       "      <td>4055</td>\n",
       "      <td>0</td>\n",
       "    </tr>\n",
       "    <tr>\n",
       "      <th>ATP8</th>\n",
       "      <td>1741</td>\n",
       "      <td>2952</td>\n",
       "      <td>2450</td>\n",
       "      <td>0</td>\n",
       "    </tr>\n",
       "    <tr>\n",
       "      <th>COX1</th>\n",
       "      <td>23514</td>\n",
       "      <td>41117</td>\n",
       "      <td>2015</td>\n",
       "      <td>0</td>\n",
       "    </tr>\n",
       "    <tr>\n",
       "      <th>COX2</th>\n",
       "      <td>10649</td>\n",
       "      <td>16354</td>\n",
       "      <td>2749</td>\n",
       "      <td>2</td>\n",
       "    </tr>\n",
       "    <tr>\n",
       "      <th>COX3</th>\n",
       "      <td>11315</td>\n",
       "      <td>18231</td>\n",
       "      <td>2901</td>\n",
       "      <td>2</td>\n",
       "    </tr>\n",
       "    <tr>\n",
       "      <th>CYTB</th>\n",
       "      <td>16237</td>\n",
       "      <td>27492</td>\n",
       "      <td>5509</td>\n",
       "      <td>5</td>\n",
       "    </tr>\n",
       "    <tr>\n",
       "      <th>ND1</th>\n",
       "      <td>17121</td>\n",
       "      <td>27156</td>\n",
       "      <td>4726</td>\n",
       "      <td>3</td>\n",
       "    </tr>\n",
       "    <tr>\n",
       "      <th>ND2</th>\n",
       "      <td>15609</td>\n",
       "      <td>27468</td>\n",
       "      <td>10714</td>\n",
       "      <td>3</td>\n",
       "    </tr>\n",
       "    <tr>\n",
       "      <th>ND3</th>\n",
       "      <td>4816</td>\n",
       "      <td>8410</td>\n",
       "      <td>2831</td>\n",
       "      <td>0</td>\n",
       "    </tr>\n",
       "    <tr>\n",
       "      <th>ND4</th>\n",
       "      <td>19761</td>\n",
       "      <td>34095</td>\n",
       "      <td>10009</td>\n",
       "      <td>2</td>\n",
       "    </tr>\n",
       "    <tr>\n",
       "      <th>ND4L</th>\n",
       "      <td>4657</td>\n",
       "      <td>6800</td>\n",
       "      <td>1902</td>\n",
       "      <td>0</td>\n",
       "    </tr>\n",
       "    <tr>\n",
       "      <th>ND5</th>\n",
       "      <td>25054</td>\n",
       "      <td>42972</td>\n",
       "      <td>15968</td>\n",
       "      <td>0</td>\n",
       "    </tr>\n",
       "  </tbody>\n",
       "</table>\n",
       "</div>"
      ],
      "text/plain": [
       "Label    syn    ffd  other  nns\n",
       "Gene                           \n",
       "ATP6    9315  19085   4055    0\n",
       "ATP8    1741   2952   2450    0\n",
       "COX1   23514  41117   2015    0\n",
       "COX2   10649  16354   2749    2\n",
       "COX3   11315  18231   2901    2\n",
       "CYTB   16237  27492   5509    5\n",
       "ND1    17121  27156   4726    3\n",
       "ND2    15609  27468  10714    3\n",
       "ND3     4816   8410   2831    0\n",
       "ND4    19761  34095  10009    2\n",
       "ND4L    4657   6800   1902    0\n",
       "ND5    25054  42972  15968    0"
      ]
     },
     "execution_count": 33,
     "metadata": {},
     "output_type": "execute_result"
    }
   ],
   "source": [
    "_mutations_description = mutations[\n",
    "    (mutations.Mut.str.fullmatch(\"[ACGT]\\[[ACGT]>[ACGT]\\][ACGT]\"))\n",
    "].groupby([\"Label\", \"Gene\"]).Mut.count().reset_index()\n",
    "_mutations_description[\"Label\"] = _mutations_description.Label.map(\n",
    "    {-1: \"nns\", 0: \"other\", 1: \"syn\", 2: \"ffd\"})\n",
    "\n",
    "_pivot_mutations = pd.pivot_table(\n",
    "    _mutations_description,\n",
    "    values=\"Mut\", index=\"Gene\", columns=\"Label\", fill_value=0\n",
    ")[['syn', 'ffd', 'other', 'nns']]\n",
    "\n",
    "_pivot_mutations.index = _pivot_mutations.index.map(\n",
    "    {i: x for i, x in enumerate(genes_order, 1)})\n",
    "_pivot_mutations\n"
   ]
  },
  {
   "cell_type": "markdown",
   "metadata": {},
   "source": [
    "**We observe very small number of nonsense mutations associated with stopcodons. Good result.**"
   ]
  },
  {
   "cell_type": "code",
   "execution_count": null,
   "metadata": {},
   "outputs": [],
   "source": []
  },
  {
   "cell_type": "markdown",
   "metadata": {},
   "source": [
    "**12 component MutSpec**"
   ]
  },
  {
   "cell_type": "code",
   "execution_count": 40,
   "metadata": {},
   "outputs": [],
   "source": [
    "# sns.barplot(x=\"Mut\", y=\"RawMutSpec\", data=edge_mutspec_syn, order=sorted(edge_mutspec_syn.Mut.unique()));\n",
    "# plt.title(\"Synonymous mutational spectra\")\n",
    "# plt.savefig(f\"../figures/{label}_mutspec_syn.svg\")\n",
    "# plt.show()\n"
   ]
  },
  {
   "cell_type": "code",
   "execution_count": 29,
   "metadata": {},
   "outputs": [
    {
     "data": {
      "image/png": "[encoded data removed]",
      "text/plain": [
       "<Figure size 432x288 with 1 Axes>"
      ]
     },
     "metadata": {
      "needs_background": "light"
     },
     "output_type": "display_data"
    }
   ],
   "source": [
    "sns.barplot(x=\"Mut\", y=\"MutSpec\", data=edge_mutspec12_ff,\n",
    "            order=sorted(edge_mutspec12_ff.Mut.unique()))\n",
    "plt.title(\"Fourfold mutational spectra\")\n",
    "# plt.savefig(f\"../figures/{label}_mutspec12_ff.svg\")\n",
    "plt.show()\n"
   ]
  },
  {
   "cell_type": "code",
   "execution_count": 30,
   "metadata": {},
   "outputs": [
    {
     "data": {
      "image/png": "[encoded data removed]",
      "text/plain": [
       "<Figure size 432x288 with 1 Axes>"
      ]
     },
     "metadata": {
      "needs_background": "light"
     },
     "output_type": "display_data"
    }
   ],
   "source": [
    "sns.barplot(x=\"Mut\", y=\"MutSpec\", data=edge_mutspec12_all,\n",
    "            order=sorted(edge_mutspec12_all.Mut.unique()))\n",
    "plt.title(\"Full mutational spectra\")\n",
    "# plt.savefig(f\"../figures/{label}_mutspec12_all.svg\")\n",
    "plt.show()\n"
   ]
  },
  {
   "cell_type": "markdown",
   "metadata": {},
   "source": [
    "**192 component MutSpec**\n",
    "\n",
    "[first link](https://stackoverflow.com/questions/51818724/plot-two-levels-of-x-ticklabels-on-a-pandas-multi-index-dataframe)\n",
    "\n",
    "[used link](https://stackoverflow.com/a/39502106/14998254)"
   ]
  },
  {
   "cell_type": "code",
   "execution_count": 31,
   "metadata": {},
   "outputs": [],
   "source": [
    "tmp_df = pd.DataFrame({\"MutExt\": edge_mutspec192_ff.Mut.unique()})\n",
    "tmp_df[\"Mut\"] = tmp_df.MutExt.str.get(2) + \">\" + tmp_df.MutExt.str.get(4)\n",
    "tmp_df[\"Context\"] = tmp_df.MutExt.str.get(\n",
    "    0) + tmp_df.MutExt.str.get(2) + tmp_df.MutExt.str.get(-1)\n",
    "tmp_df.sort_values([\"Mut\", \"Context\"], inplace=True)\n",
    "order192 = tmp_df.MutExt.values\n"
   ]
  },
  {
   "cell_type": "code",
   "execution_count": 32,
   "metadata": {},
   "outputs": [],
   "source": [
    "edge_mutspec192_ff[\"MutBase\"] = edge_mutspec192_ff.Mut.str.get(\n",
    "    2) + \">\" + edge_mutspec192_ff.Mut.str.get(4)\n",
    "edge_mutspec192_ff[\"Context\"] = edge_mutspec192_ff.Mut.str.get(\n",
    "    0) + edge_mutspec192_ff.Mut.str.get(2) + edge_mutspec192_ff.Mut.str.get(-1)\n",
    "\n",
    "edge_mutspec192_all[\"MutBase\"] = edge_mutspec192_all.Mut.str.get(\n",
    "    2) + \">\" + edge_mutspec192_all.Mut.str.get(4)\n",
    "edge_mutspec192_all[\"Context\"] = edge_mutspec192_all.Mut.str.get(\n",
    "    0) + edge_mutspec192_all.Mut.str.get(2) + edge_mutspec192_all.Mut.str.get(-1)\n"
   ]
  },
  {
   "cell_type": "code",
   "execution_count": 33,
   "metadata": {},
   "outputs": [],
   "source": [
    "def add_line(ax, xpos, ypos):\n",
    "    line = plt.Line2D([xpos, xpos], [ypos + .1, ypos],\n",
    "                      transform=ax.transAxes, color='black', linewidth=1)\n",
    "    line.set_clip_on(False)\n",
    "    ax.add_line(line)\n",
    "\n",
    "\n",
    "def label_len(my_index,level):\n",
    "    labels = my_index.get_level_values(level)\n",
    "    return [(k, sum(1 for i in g)) for k,g in groupby(labels)]\n",
    "\n",
    "\n",
    "def label_group_bar_table(ax, df):\n",
    "    font = {\n",
    "        'family': 'cursive',\n",
    "        'color':  'black',\n",
    "        'weight': 'normal',\n",
    "        'size': 7,\n",
    "    }\n",
    "    rotation = 90\n",
    "    ypos = -.05\n",
    "    scale = 1./df.index.size\n",
    "    for level in range(df.index.nlevels)[::-1]:\n",
    "        if level == 0:\n",
    "            rotation = 0\n",
    "            font['size'] = 12\n",
    "\n",
    "        pos = 0\n",
    "        for label, rpos in label_len(df.index, level):\n",
    "            lxpos = (pos + .5 * rpos)*scale\n",
    "            ax.text(lxpos, ypos, label, ha='center', rotation=rotation,\n",
    "                    fontdict=font, transform=ax.transAxes)\n",
    "            if level == 0:\n",
    "                add_line(ax, pos*scale, ypos)\n",
    "            pos += rpos\n",
    "        if level == 0:\n",
    "            add_line(ax, pos*scale, ypos)\n",
    "        ypos -= .05\n",
    "\n",
    "\n",
    "def plot_mutspec192(edge_mutspec192, label=\"Mutational spectra\", filepath=None):\n",
    "    df = edge_mutspec192.groupby([\"MutBase\", \"Context\"]).mean()\n",
    "    fig = plt.figure(figsize=(24, 12))\n",
    "    ax = fig.add_subplot(111)\n",
    "    sns.barplot(x=\"Mut\", y=\"MutSpec\", data=edge_mutspec192,\n",
    "                order=order192, errwidth=1, ax=fig.gca())\n",
    "\n",
    "    labels = ['' for item in ax.get_xticklabels()]\n",
    "    ax.set_xticklabels(labels)\n",
    "    ax.set_xlabel('')\n",
    "    ax.set_title(label)\n",
    "    label_group_bar_table(ax, df)\n",
    "    fig.subplots_adjust(bottom=.1*df.index.nlevels)\n",
    "    if filepath is not None:\n",
    "        plt.savefig(filepath)\n",
    "    plt.show()\n"
   ]
  },
  {
   "cell_type": "code",
   "execution_count": 35,
   "metadata": {},
   "outputs": [
    {
     "data": {
      "image/png": "[encoded data removed]",
      "text/plain": [
       "<Figure size 1728x864 with 1 Axes>"
      ]
     },
     "metadata": {
      "needs_background": "light"
     },
     "output_type": "display_data"
    }
   ],
   "source": [
    "plot_mutspec192(edge_mutspec192_ff, \"Fourfold mutational spectra\", f\"../figures/{label}_mutspec192_ff.svg\")"
   ]
  },
  {
   "cell_type": "code",
   "execution_count": 36,
   "metadata": {},
   "outputs": [
    {
     "data": {
      "image/png": "[encoded data removed]",
      "text/plain": [
       "<Figure size 1728x864 with 1 Axes>"
      ]
     },
     "metadata": {
      "needs_background": "light"
     },
     "output_type": "display_data"
    }
   ],
   "source": [
    "plot_mutspec192(edge_mutspec192_all, \"Full mutational spectra\", f\"../figures/{label}_mutspec192_all.svg\")"
   ]
  },
  {
   "cell_type": "code",
   "execution_count": 114,
   "metadata": {},
   "outputs": [],
   "source": [
    "# plt.figure(figsize=(18, 10))\n",
    "# sns.barplot(x=\"Mut\", y=\"MutSpec\", data=edge_mutspec192_ff, order=order192, errwidth=1)\n",
    "# plt.title(\"Fourfold mutational spectra\")\n",
    "# plt.xticks(rotation=90, fontsize=7)\n",
    "# plt.savefig(f\"../figures/{label}_mutspec192_ff.svg\")\n",
    "# plt.show()\n"
   ]
  },
  {
   "cell_type": "markdown",
   "metadata": {},
   "source": [
    "**We need to get reverse-complecent mutations**\n",
    "\n",
    "Because:\n",
    "- genes are on light strand\n",
    "- usually we look at heavy strand mutspec\n",
    "\n",
    "<img src=\"https://media.springernature.com/full/springer-static/image/art%3A10.1186%2Fs12915-019-0668-y/MediaObjects/12915_2019_668_Fig2_HTML.png\" width=800px>\n",
    "\n",
    "<img src=\"https://upload.wikimedia.org/wikipedia/commons/thumb/1/15/Map_of_the_human_mitochondrial_genome.svg/800px-Map_of_the_human_mitochondrial_genome.svg.png\" width=800px>"
   ]
  },
  {
   "cell_type": "code",
   "execution_count": 37,
   "metadata": {},
   "outputs": [],
   "source": [
    "transcriptor = str.maketrans(\"ACGT\", \"TGCA\")\n",
    "\n",
    "\n",
    "def rev_comp(mut: str):\n",
    "    new_mut = mut[-1] + mut[1:-1] + mut[0]\n",
    "    new_mut = new_mut.translate(transcriptor)\n",
    "    return new_mut\n"
   ]
  },
  {
   "cell_type": "code",
   "execution_count": 38,
   "metadata": {},
   "outputs": [
    {
     "data": {
      "text/plain": [
       "'G[C>A]T'"
      ]
     },
     "execution_count": 38,
     "metadata": {},
     "output_type": "execute_result"
    }
   ],
   "source": [
    "rev_comp(\"A[G>T]C\")\n"
   ]
  },
  {
   "cell_type": "code",
   "execution_count": 39,
   "metadata": {},
   "outputs": [],
   "source": [
    "# mutations[\"Mut\"] = mutations[\"Mut\"].str.translate(transcriptor)\n",
    "# mutations[\"MutExt\"] = mutations[\"MutExt\"].str.translate(transcriptor)\n",
    "\n",
    "# complementation for 12comp\n",
    "edge_mutspec12_ff[\"Mut\"] = edge_mutspec12_ff[\"Mut\"].str.translate(transcriptor)\n",
    "edge_mutspec12_all[\"Mut\"] = edge_mutspec12_all[\"Mut\"].str.translate(transcriptor)\n",
    "\n",
    "# reverse complementation for 192comp\n",
    "edge_mutspec192_ff[\"Mut\"] = edge_mutspec192_ff.Mut.apply(rev_comp)\n",
    "edge_mutspec192_all[\"Mut\"] = edge_mutspec192_all.Mut.apply(rev_comp)\n"
   ]
  },
  {
   "cell_type": "code",
   "execution_count": 40,
   "metadata": {},
   "outputs": [
    {
     "data": {
      "text/html": [
       "<div>\n",
       "<style scoped>\n",
       "    .dataframe tbody tr th:only-of-type {\n",
       "        vertical-align: middle;\n",
       "    }\n",
       "\n",
       "    .dataframe tbody tr th {\n",
       "        vertical-align: top;\n",
       "    }\n",
       "\n",
       "    .dataframe thead th {\n",
       "        text-align: right;\n",
       "    }\n",
       "</style>\n",
       "<table border=\"1\" class=\"dataframe\">\n",
       "  <thead>\n",
       "    <tr style=\"text-align: right;\">\n",
       "      <th></th>\n",
       "      <th>Mut</th>\n",
       "      <th>ObsFr</th>\n",
       "      <th>Divisor</th>\n",
       "      <th>RawMutSpec</th>\n",
       "      <th>MutSpec</th>\n",
       "      <th>RefNode</th>\n",
       "      <th>AltNode</th>\n",
       "      <th>MutBase</th>\n",
       "      <th>Context</th>\n",
       "    </tr>\n",
       "  </thead>\n",
       "  <tbody>\n",
       "    <tr>\n",
       "      <th>0</th>\n",
       "      <td>G[G&gt;A]G</td>\n",
       "      <td>25</td>\n",
       "      <td>270</td>\n",
       "      <td>0.092593</td>\n",
       "      <td>0.008308</td>\n",
       "      <td>Node1</td>\n",
       "      <td>Acanthisitta_chloris</td>\n",
       "      <td>C&gt;T</td>\n",
       "      <td>CCC</td>\n",
       "    </tr>\n",
       "    <tr>\n",
       "      <th>1</th>\n",
       "      <td>T[G&gt;A]G</td>\n",
       "      <td>24</td>\n",
       "      <td>198</td>\n",
       "      <td>0.121212</td>\n",
       "      <td>0.010876</td>\n",
       "      <td>Node1</td>\n",
       "      <td>Acanthisitta_chloris</td>\n",
       "      <td>C&gt;T</td>\n",
       "      <td>CCA</td>\n",
       "    </tr>\n",
       "    <tr>\n",
       "      <th>2</th>\n",
       "      <td>G[G&gt;T]G</td>\n",
       "      <td>21</td>\n",
       "      <td>270</td>\n",
       "      <td>0.077778</td>\n",
       "      <td>0.006979</td>\n",
       "      <td>Node1</td>\n",
       "      <td>Acanthisitta_chloris</td>\n",
       "      <td>C&gt;A</td>\n",
       "      <td>CCC</td>\n",
       "    </tr>\n",
       "    <tr>\n",
       "      <th>3</th>\n",
       "      <td>T[G&gt;T]G</td>\n",
       "      <td>20</td>\n",
       "      <td>198</td>\n",
       "      <td>0.101010</td>\n",
       "      <td>0.009064</td>\n",
       "      <td>Node1</td>\n",
       "      <td>Acanthisitta_chloris</td>\n",
       "      <td>C&gt;A</td>\n",
       "      <td>CCA</td>\n",
       "    </tr>\n",
       "    <tr>\n",
       "      <th>4</th>\n",
       "      <td>T[T&gt;G]A</td>\n",
       "      <td>18</td>\n",
       "      <td>156</td>\n",
       "      <td>0.115385</td>\n",
       "      <td>0.010353</td>\n",
       "      <td>Node1</td>\n",
       "      <td>Acanthisitta_chloris</td>\n",
       "      <td>A&gt;C</td>\n",
       "      <td>TAA</td>\n",
       "    </tr>\n",
       "    <tr>\n",
       "      <th>...</th>\n",
       "      <td>...</td>\n",
       "      <td>...</td>\n",
       "      <td>...</td>\n",
       "      <td>...</td>\n",
       "      <td>...</td>\n",
       "      <td>...</td>\n",
       "      <td>...</td>\n",
       "      <td>...</td>\n",
       "      <td>...</td>\n",
       "    </tr>\n",
       "    <tr>\n",
       "      <th>292219</th>\n",
       "      <td>C[A&gt;C]C</td>\n",
       "      <td>0</td>\n",
       "      <td>9</td>\n",
       "      <td>0.000000</td>\n",
       "      <td>0.000000</td>\n",
       "      <td>Node144</td>\n",
       "      <td>Pseudoleistes_virescens</td>\n",
       "      <td>T&gt;G</td>\n",
       "      <td>GTG</td>\n",
       "    </tr>\n",
       "    <tr>\n",
       "      <th>292220</th>\n",
       "      <td>A[A&gt;C]G</td>\n",
       "      <td>0</td>\n",
       "      <td>32</td>\n",
       "      <td>0.000000</td>\n",
       "      <td>0.000000</td>\n",
       "      <td>Node144</td>\n",
       "      <td>Pseudoleistes_virescens</td>\n",
       "      <td>T&gt;G</td>\n",
       "      <td>CTT</td>\n",
       "    </tr>\n",
       "    <tr>\n",
       "      <th>292221</th>\n",
       "      <td>T[C&gt;G]C</td>\n",
       "      <td>0</td>\n",
       "      <td>4</td>\n",
       "      <td>0.000000</td>\n",
       "      <td>0.000000</td>\n",
       "      <td>Node144</td>\n",
       "      <td>Pseudoleistes_virescens</td>\n",
       "      <td>G&gt;C</td>\n",
       "      <td>GGA</td>\n",
       "    </tr>\n",
       "    <tr>\n",
       "      <th>292222</th>\n",
       "      <td>C[G&gt;C]G</td>\n",
       "      <td>0</td>\n",
       "      <td>78</td>\n",
       "      <td>0.000000</td>\n",
       "      <td>0.000000</td>\n",
       "      <td>Node144</td>\n",
       "      <td>Pseudoleistes_virescens</td>\n",
       "      <td>C&gt;G</td>\n",
       "      <td>CCG</td>\n",
       "    </tr>\n",
       "    <tr>\n",
       "      <th>292223</th>\n",
       "      <td>T[G&gt;T]G</td>\n",
       "      <td>0</td>\n",
       "      <td>129</td>\n",
       "      <td>0.000000</td>\n",
       "      <td>0.000000</td>\n",
       "      <td>Node144</td>\n",
       "      <td>Pseudoleistes_virescens</td>\n",
       "      <td>C&gt;A</td>\n",
       "      <td>CCA</td>\n",
       "    </tr>\n",
       "  </tbody>\n",
       "</table>\n",
       "<p>292224 rows × 9 columns</p>\n",
       "</div>"
      ],
      "text/plain": [
       "            Mut  ObsFr  Divisor  RawMutSpec   MutSpec  RefNode  \\\n",
       "0       G[G>A]G     25      270    0.092593  0.008308    Node1   \n",
       "1       T[G>A]G     24      198    0.121212  0.010876    Node1   \n",
       "2       G[G>T]G     21      270    0.077778  0.006979    Node1   \n",
       "3       T[G>T]G     20      198    0.101010  0.009064    Node1   \n",
       "4       T[T>G]A     18      156    0.115385  0.010353    Node1   \n",
       "...         ...    ...      ...         ...       ...      ...   \n",
       "292219  C[A>C]C      0        9    0.000000  0.000000  Node144   \n",
       "292220  A[A>C]G      0       32    0.000000  0.000000  Node144   \n",
       "292221  T[C>G]C      0        4    0.000000  0.000000  Node144   \n",
       "292222  C[G>C]G      0       78    0.000000  0.000000  Node144   \n",
       "292223  T[G>T]G      0      129    0.000000  0.000000  Node144   \n",
       "\n",
       "                        AltNode MutBase Context  \n",
       "0          Acanthisitta_chloris     C>T     CCC  \n",
       "1          Acanthisitta_chloris     C>T     CCA  \n",
       "2          Acanthisitta_chloris     C>A     CCC  \n",
       "3          Acanthisitta_chloris     C>A     CCA  \n",
       "4          Acanthisitta_chloris     A>C     TAA  \n",
       "...                         ...     ...     ...  \n",
       "292219  Pseudoleistes_virescens     T>G     GTG  \n",
       "292220  Pseudoleistes_virescens     T>G     CTT  \n",
       "292221  Pseudoleistes_virescens     G>C     GGA  \n",
       "292222  Pseudoleistes_virescens     C>G     CCG  \n",
       "292223  Pseudoleistes_virescens     C>A     CCA  \n",
       "\n",
       "[292224 rows x 9 columns]"
      ]
     },
     "execution_count": 40,
     "metadata": {},
     "output_type": "execute_result"
    }
   ],
   "source": [
    "edge_mutspec192_ff\n"
   ]
  },
  {
   "cell_type": "markdown",
   "metadata": {},
   "source": [
    "**12 component MutSpec**"
   ]
  },
  {
   "cell_type": "code",
   "execution_count": 41,
   "metadata": {},
   "outputs": [
    {
     "data": {
      "image/png": "[encoded data removed]",
      "text/plain": [
       "<Figure size 432x288 with 1 Axes>"
      ]
     },
     "metadata": {
      "needs_background": "light"
     },
     "output_type": "display_data"
    }
   ],
   "source": [
    "sns.barplot(x=\"Mut\", y=\"MutSpec\", data=edge_mutspec12_ff,\n",
    "            order=sorted(edge_mutspec12_ff.Mut.unique()))\n",
    "plt.title(\"Fourfold mutational spectra\")\n",
    "plt.savefig(f\"../figures/{label}_mutspec12_ff.svg\")\n",
    "plt.show()\n"
   ]
  },
  {
   "cell_type": "code",
   "execution_count": 42,
   "metadata": {},
   "outputs": [
    {
     "data": {
      "image/png": "[encoded data removed]",
      "text/plain": [
       "<Figure size 432x288 with 1 Axes>"
      ]
     },
     "metadata": {
      "needs_background": "light"
     },
     "output_type": "display_data"
    }
   ],
   "source": [
    "sns.barplot(x=\"Mut\", y=\"MutSpec\", data=edge_mutspec12_all,\n",
    "            order=sorted(edge_mutspec12_all.Mut.unique()))\n",
    "plt.title(\"Full mutational spectra\")\n",
    "plt.savefig(f\"../figures/{label}_mutspec12_all.svg\")\n",
    "plt.show()\n"
   ]
  },
  {
   "cell_type": "markdown",
   "metadata": {},
   "source": [
    "**192 component MutSpec**"
   ]
  },
  {
   "cell_type": "code",
   "execution_count": 43,
   "metadata": {},
   "outputs": [],
   "source": [
    "edge_mutspec192_ff[\"MutBase\"] = edge_mutspec192_ff.Mut.str.get(\n",
    "    2) + \">\" + edge_mutspec192_ff.Mut.str.get(4)\n",
    "edge_mutspec192_ff[\"Context\"] = edge_mutspec192_ff.Mut.str.get(\n",
    "    0) + edge_mutspec192_ff.Mut.str.get(2) + edge_mutspec192_ff.Mut.str.get(-1)\n",
    "\n",
    "edge_mutspec192_all[\"MutBase\"] = edge_mutspec192_all.Mut.str.get(\n",
    "    2) + \">\" + edge_mutspec192_all.Mut.str.get(4)\n",
    "edge_mutspec192_all[\"Context\"] = edge_mutspec192_all.Mut.str.get(\n",
    "    0) + edge_mutspec192_all.Mut.str.get(2) + edge_mutspec192_all.Mut.str.get(-1)"
   ]
  },
  {
   "cell_type": "code",
   "execution_count": 44,
   "metadata": {},
   "outputs": [
    {
     "data": {
      "image/png": "[encoded data removed]",
      "text/plain": [
       "<Figure size 1728x864 with 1 Axes>"
      ]
     },
     "metadata": {
      "needs_background": "light"
     },
     "output_type": "display_data"
    }
   ],
   "source": [
    "plot_mutspec192(edge_mutspec192_ff, \"Fourfold mutational spectra\")"
   ]
  },
  {
   "cell_type": "code",
   "execution_count": 45,
   "metadata": {},
   "outputs": [
    {
     "data": {
      "image/png": "[encoded data removed]",
      "text/plain": [
       "<Figure size 1728x864 with 1 Axes>"
      ]
     },
     "metadata": {
      "needs_background": "light"
     },
     "output_type": "display_data"
    }
   ],
   "source": [
    "plot_mutspec192(edge_mutspec192_all, \"Full mutational spectra\")"
   ]
  },
  {
   "cell_type": "code",
   "execution_count": null,
   "metadata": {},
   "outputs": [],
   "source": []
  },
  {
   "cell_type": "code",
   "execution_count": null,
   "metadata": {},
   "outputs": [],
   "source": []
  },
  {
   "cell_type": "code",
   "execution_count": null,
   "metadata": {},
   "outputs": [],
   "source": []
  },
  {
   "cell_type": "code",
   "execution_count": null,
   "metadata": {},
   "outputs": [],
   "source": []
  },
  {
   "cell_type": "code",
   "execution_count": 14,
   "metadata": {},
   "outputs": [],
   "source": [
    "def prepare_one_mut_share_file(mutspec: pd.DataFrame, filename: str, sbs=\"C>T\"):\n",
    "    assert bool(re.match(\"[ACGT]>[ACGT]\", sbs)), \"sbs is not appropriate\"\n",
    "    cols = [\"RefNode\", \"AltNode\", \"MutSpec\"]\n",
    "    for c in cols:\n",
    "        assert c in mutspec, f\"Column {c} is not in mutspec dataframe\"\n",
    "\n",
    "    shares = mutspec[mutspec.Mut == sbs][cols]\n",
    "    shares.to_csv(filename, \"\\t\", index=None)\n",
    "    return shares\n"
   ]
  },
  {
   "cell_type": "code",
   "execution_count": 27,
   "metadata": {},
   "outputs": [],
   "source": [
    "pref_sbs = \"C>T\"\n",
    "prepare_one_mut_share_file(edge_mutspec, \"../data/processed/c2t_edge_mutspec.tsv\")\n"
   ]
  },
  {
   "cell_type": "code",
   "execution_count": 11,
   "metadata": {},
   "outputs": [
    {
     "data": {
      "text/plain": [
       "<AxesSubplot:>"
      ]
     },
     "execution_count": 11,
     "metadata": {},
     "output_type": "execute_result"
    },
    {
     "data": {
      "image/png": "[encoded data removed]",
      "text/plain": [
       "<Figure size 432x288 with 1 Axes>"
      ]
     },
     "metadata": {
      "needs_background": "light"
     },
     "output_type": "display_data"
    }
   ],
   "source": [
    "edge_mutspec_ff[edge_mutspec_ff.Mut == \"A>G\"][\"MutSpec\"].hist()\n"
   ]
  },
  {
   "cell_type": "markdown",
   "metadata": {},
   "source": [
    "### Reformat mutspec"
   ]
  },
  {
   "cell_type": "code",
   "execution_count": 29,
   "metadata": {},
   "outputs": [],
   "source": [
    "import os\n",
    "import warnings\n",
    "\n",
    "warnings.filterwarnings(\"ignore\")"
   ]
  },
  {
   "cell_type": "code",
   "execution_count": 12,
   "metadata": {},
   "outputs": [],
   "source": [
    "PATH_TO_DIR_OF_EDGE_MUTSPEC = \"../data/processed/for_signatures/\""
   ]
  },
  {
   "cell_type": "code",
   "execution_count": 30,
   "metadata": {},
   "outputs": [],
   "source": [
    "grouped = edge_mutspec192_ff.groupby(\"AltNode\")\n",
    "for gname in edge_mutspec192_ff.AltNode.unique():\n",
    "    cur_gr = grouped.get_group(gname)\n",
    "    assert len(cur_gr) == 192\n",
    "    cur_gr[\"NucSubst\"] = cur_gr.Mut.str.get(0) + cur_gr.Mut.str.get(2) + cur_gr.Mut.str.get(-1) + \">\" + \\\n",
    "                        cur_gr.Mut.str.get(0) + cur_gr.Mut.str.get(-3) + cur_gr.Mut.str.get(-1)\n",
    "    \n",
    "    cur_gr = cur_gr[[\"NucSubst\", \"RawMutSpec\"]]\n",
    "    cur_gr.to_csv(os.path.join(PATH_TO_DIR_OF_EDGE_MUTSPEC, gname + \".csv\"), index=None)"
   ]
  },
  {
   "cell_type": "code",
   "execution_count": null,
   "metadata": {},
   "outputs": [],
   "source": []
  },
  {
   "cell_type": "code",
   "execution_count": null,
   "metadata": {},
   "outputs": [],
   "source": []
  },
  {
   "cell_type": "code",
   "execution_count": null,
   "metadata": {},
   "outputs": [],
   "source": []
  }
 ],
 "metadata": {
  "interpreter": {
   "hash": "168b15c321dd2602d32e2364c101fbe6179fdcd135a3910c88de948ab6dc8da5"
  },
  "kernelspec": {
   "display_name": "Python 3.9.5 ('env_ms': venv)",
   "language": "python",
   "name": "python3"
  },
  "language_info": {
   "codemirror_mode": {
    "name": "ipython",
    "version": 3
   },
   "file_extension": ".py",
   "mimetype": "text/x-python",
   "name": "python",
   "nbconvert_exporter": "python",
   "pygments_lexer": "ipython3",
   "version": "3.9.5"
  },
  "orig_nbformat": 4
 },
 "nbformat": 4,
 "nbformat_minor": 2
}
