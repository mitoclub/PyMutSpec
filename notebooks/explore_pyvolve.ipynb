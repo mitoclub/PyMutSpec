{
 "cells": [
  {
   "cell_type": "code",
   "execution_count": 44,
   "metadata": {},
   "outputs": [],
   "source": [
    "import pyvolve\n",
    "import numpy as np\n",
    "import pandas as pd\n",
    "import matplotlib.pyplot as plt"
   ]
  },
  {
   "cell_type": "code",
   "execution_count": 6,
   "metadata": {},
   "outputs": [
    {
     "name": "stdout",
     "output_type": "stream",
     "text": [
      "\u001b[0;31mInit signature:\u001b[0m \u001b[0mpyvolve\u001b[0m\u001b[0;34m.\u001b[0m\u001b[0mReadFrequencies\u001b[0m\u001b[0;34m(\u001b[0m\u001b[0mby\u001b[0m\u001b[0;34m,\u001b[0m \u001b[0;34m**\u001b[0m\u001b[0mkwargs\u001b[0m\u001b[0;34m)\u001b[0m\u001b[0;34m\u001b[0m\u001b[0;34m\u001b[0m\u001b[0m\n",
      "\u001b[0;31mDocstring:\u001b[0m     \n",
      "   This class may be used to compute frequencies directly from a specified sequence file. Frequencies may be computed globally (using entire file), or based on specific columns (i.e. site-specific frequencies), provided the file contains a sequence alignment.\n",
      "\n",
      "   Required positional include, \n",
      "       1. **by**. See parent class StateFrequencies for details.\n",
      "   \n",
      "   Required keyword arguments include, \n",
      "       1. **file** is the file containing sequences from which frequencies will be computed. By default, this file is assumed to be in FASTA format, although you can specify a different format with the optional argument **format**\n",
      "   \n",
      "   Optional keyword arguments include, \n",
      "       1. **format** is the sequence file format (case-insensitive). Sequence files are parsed using Biopython, so any format they accept is accepted here (e.g. fasta, phylip, phylip-relaxed, nexus, clustal...)\n",
      "       2. **columns** is a list of integers giving the column(s) which should be considered in frequency calculations. This list should be indexed *from 1*. If this argument is not provided, all positions in sequence file will be considered. Note that this argument is only possible for alignments!\n",
      "\n",
      "\n",
      "Examples:\n",
      "   .. code-block:: python \n",
      "      \n",
      "      >>> # Compute amino acid frequencies globally from a sequence file\n",
      "      >>> f = ReadFrequencies(\"amino_acid\", file = \"my_sequence_file.fasta\")\n",
      "      >>> frequencies = f.compute_frequencies()\n",
      "      \n",
      "      >>> # Compute amino acid frequencies globally from a sequence file, and then convert to codon frequencies (note: synonymous codons are assigned the same fitness!)\n",
      "      >>> f = ReadFrequencies(\"amino_acid\", file = \"my_sequence_file.fasta\")\n",
      "      >>> frequencies = f.compute_frequencies(type = \"codon\")\n",
      "      \n",
      "      >>> # Compute nucleotide frequencies from a specific range of columns (1-10, inclusive) from a nucleotide alignment file \n",
      "      >>> f = ReadFrequencies(\"nucleotide\", file = \"my_nucleotide_alignment.phy\", format = \"phylip\", columns = range(1,11))\n",
      "      >>> frequencies = f.compute_frequencies()\n",
      "      \n",
      "\u001b[0;31mInit docstring:\u001b[0m\n",
      "A single positional argument is required for all child classes.\n",
      "This argument can take on three values: \"nucleotide\", \"amino_acid\", or \"codon,\" and it indicates *how* frequencies should be computed. These frequencies need not be the ultimate frequencies you want to compute. For example, it is possible to compute stationary frequencies in amino-acid space (via this argument) but ultimately return codon frequencies (using argument \"type\" in the .compute_frequencies() method, described below).\n",
      "     \n",
      "\u001b[0;31mFile:\u001b[0m           ~/env_bio/lib/python3.9/site-packages/pyvolve/state_freqs.py\n",
      "\u001b[0;31mType:\u001b[0m           type\n",
      "\u001b[0;31mSubclasses:\u001b[0m     \n"
     ]
    }
   ],
   "source": [
    "pyvolve.ReadFrequencies?"
   ]
  },
  {
   "cell_type": "code",
   "execution_count": 48,
   "metadata": {},
   "outputs": [],
   "source": [
    "f = pyvolve.ReadFrequencies(\"codon\", file=\"../tmp/query_multiple.fasta\")"
   ]
  },
  {
   "cell_type": "code",
   "execution_count": 40,
   "metadata": {},
   "outputs": [
    {
     "data": {
      "text/plain": [
       "0"
      ]
     },
     "execution_count": 40,
     "metadata": {},
     "output_type": "execute_result"
    }
   ],
   "source": [
    "seq = \"ATGAACGAAAATCTGTTCGCTTCATTCATTGCCCCCACAATCCTAGGCCTACCCGCCGCAGTACTGATCATTCTATTTCCCCCTCTATTGATCCCCACCTCCAAATATCTCATCAACAACCGACTAATCACCACCCAACAATGACTAATCAAACTAACCTCAAAACAAATGATAACCATACACAACACTAAAGGACGAACCTGATCTCTTATACTAGTATCCTTAATCATTTTTATTGCCACAACTAACCTCCTCGGACTCCTGCCTCACTCATTTACACCAACCACCCAACTATCTATAAACCTAGCCATGGCCATCCCCTTATGAGCGGGCGCAGTGATTATAGGCTTTCGCTCTAAGATTAAAAATGCCCTGGCCCACTTCTTACCACAAGGCACACCTACACCCCTTATCCCCATACTAGTTACTATCGAAACCATCAGCCTACTCATTCAACCAATAGCCCTGGCCGTACGCCTAACCGCTAACATTACTGCAGGCCACCTACTCATGCACCTAATTGGAAGCGCCACCCTAGCAATATCAACCATTAACCTTCCCTCTACACTTATCATCTTCACAATTCTAATTCTACTGACTATCCTAGAAATCGCTGTCGCCTTAATCCAAGCCTACGTTTTCACACTTCTAGTAAGCCTCTACCTGCACGACAACACA\"\n",
    "len(seq) % 3"
   ]
  },
  {
   "cell_type": "code",
   "execution_count": 51,
   "metadata": {},
   "outputs": [
    {
     "data": {
      "text/plain": [
       "array([0.02212389, 0.03982301, 0.00442478, 0.00884956, 0.03982301,\n",
       "       0.05309735, 0.02212389, 0.01327434, 0.03539823, 0.07079646,\n",
       "       0.01769912, 0.05309735, 0.03097345, 0.02654867, 0.01327434,\n",
       "       0.03539823, 0.01327434, 0.00884956, 0.00884956, 0.08849558,\n",
       "       0.03097345, 0.03097345, 0.02212389, 0.01327434, 0.00442478,\n",
       "       0.01769912, 0.05309735, 0.00442478, 0.01327434, 0.01327434,\n",
       "       0.02212389, 0.01769912, 0.00442478, 0.00442478, 0.00884956,\n",
       "       0.00884956, 0.00442478, 0.01769912, 0.00884956, 0.01769912,\n",
       "       0.01327434, 0.01769912, 0.02212389, 0.00442478, 0.01769912])"
      ]
     },
     "execution_count": 51,
     "metadata": {},
     "output_type": "execute_result"
    }
   ],
   "source": [
    "pd.Series([seq[i: i+3] for i in range(0, len(seq)-2, 3)]).value_counts(normalize=True).sort_index().values"
   ]
  },
  {
   "cell_type": "code",
   "execution_count": 49,
   "metadata": {},
   "outputs": [
    {
     "data": {
      "text/plain": [
       "array([0.02214674, 0.040625  , 0.00461957, 0.00910326, 0.04116848,\n",
       "       0.05203804, 0.        , 0.01875   , 0.        , 0.01290761,\n",
       "       0.        , 0.00013587, 0.03600543, 0.0705163 , 0.01752717,\n",
       "       0.05815217, 0.03138587, 0.0267663 , 0.00013587, 0.00027174,\n",
       "       0.01331522, 0.03627717, 0.00013587, 0.01304348, 0.00883152,\n",
       "       0.00883152, 0.00013587, 0.00013587, 0.09402174, 0.03125   ,\n",
       "       0.02717391, 0.02228261, 0.01345109, 0.0044837 , 0.        ,\n",
       "       0.        , 0.01766304, 0.05529891, 0.00407609, 0.01358696,\n",
       "       0.01345109, 0.02241848, 0.        , 0.        , 0.01752717,\n",
       "       0.00461957, 0.00502717, 0.00923913, 0.00910326, 0.00434783,\n",
       "       0.01793478, 0.00923913, 0.        , 0.01752717, 0.        ,\n",
       "       0.00013587, 0.        , 0.01820652, 0.02269022, 0.00434783,\n",
       "       0.01793478])"
      ]
     },
     "execution_count": 49,
     "metadata": {},
     "output_type": "execute_result"
    }
   ],
   "source": [
    "frequencies = f.compute_frequencies(type=\"codon\")\n",
    "frequencies"
   ]
  },
  {
   "cell_type": "code",
   "execution_count": 13,
   "metadata": {},
   "outputs": [
    {
     "data": {
      "text/plain": [
       "array([0.        , 0.        , 0.        , 0.        , 0.06380173,\n",
       "       0.06380173, 0.06380173, 0.06380173, 0.        , 0.        ,\n",
       "       0.        , 0.        , 0.        , 0.        , 0.        ,\n",
       "       0.        , 0.        , 0.        , 0.        , 0.        ,\n",
       "       0.        , 0.        , 0.        , 0.        , 0.        ,\n",
       "       0.        , 0.        , 0.        , 0.        , 0.        ,\n",
       "       0.        , 0.        , 0.        , 0.        , 0.        ,\n",
       "       0.        , 0.07471842, 0.07471842, 0.07471842, 0.07471842,\n",
       "       0.02668276, 0.02668276, 0.02668276, 0.02668276, 0.        ,\n",
       "       0.        , 0.        , 0.        , 0.        , 0.        ,\n",
       "       0.        , 0.        , 0.        , 0.        , 0.16959417,\n",
       "       0.        , 0.16959417, 0.        , 0.        , 0.        ,\n",
       "       0.        ])"
      ]
     },
     "execution_count": 13,
     "metadata": {},
     "output_type": "execute_result"
    }
   ],
   "source": []
  },
  {
   "cell_type": "code",
   "execution_count": null,
   "metadata": {},
   "outputs": [],
   "source": [
    "\n",
    "# Define a phylogeny, from a file containing a newick tree\n",
    "my_tree = pyvolve.read_tree(file = \"file_with_tree.tre\")\n",
    "\n",
    "\n",
    "# Below are three example customized parameter dictionaries. Note that each of these could have \"fitness\" rather than \"state_freqs\" as a key\n",
    "codon_freqs = [0.02792, 0.01502, 0.01755, 0.01635, 0.02512, 0.01505, 0.01997, 0.00779, 0.02043, 0.01193, 0.01404, 0.01176, 0.01449, 0.01774, 0.00658, 0.02969, 0.02937, 0.00726, 0.01316, 0.00458, 0.02227, 0.00045, 0.00697, 0.00368, 0.01169, 0.01274, 0.01866, 0.0125, 0.00914, 0.00119, 0.02332, 0.02301, 0.00315, 0.02554, 0.02328, 0.01468, 0.02868, 0.02669, 0.00417, 0.01947, 0.0145, 0.01586, 0.02783, 0.01179, 0.006, 6e-05, 0.00549, 0.02555, 0.03147, 0.03111, 0.02524, 0.00276, 0.02051, 0.01129, 0.02267, 0.02258, 0.00012, 0.03009, 0.02104, 0.02865, 0.0283]\n",
    "custom_mutation_sym = {\"AC\": 1.5, \"AG\": 2.5, \"AT\": 0.5, \"CG\": 0.8, \"CT\": 0.99, \"GT\": 1.56} # For MutSel models, if you provide only 1 pair for each mutation rate (e.g. only AC and not CA), then Pyvolve will make mutation rates symmetric\n",
    "custom_mutation_asym = {\"AC\": 1.5, \"CA\": 0.8, \"AG\": 2.5, \"GA\": 1.2, \"AT\": 0.5, \"TA\": 1.1, \"CG\": 0.8, \"GC\": 0.9, \"CT\": 0.99, \"TC\": 2.3, \"GT\": 1.56, \"TC\": 2.56} \n",
    "\n",
    "# Customize mutation rates using symmetric mutation rates, and specify frequencies for the MutSel model\n",
    "parameters1 = {\"state_freqs\": codon_freqs, \"mu\":custom_mutation_sym}\n",
    "\n",
    "# Customize mutation rates using asymmetric mutation rates, and specify frequencies for the MutSel model\n",
    "parameters2 = {\"state_freqs\": codon_freqs, \"mu\":custom_mutation_asym}\n",
    "\n",
    "# Customize mutation rates using kappa, and specify frequencies for the MutSel model\n",
    "parameters3 = {\"state_freqs\": codon_freqs, \"kappa\":4.25}\n",
    "\n",
    "my_model = pyvolve.Model(\"mutsel\", parameters3) # Any of the dictionaries shown above is acceptable!\n",
    "\n",
    "\n",
    "# Assign the model to a pyvolve.Partition. The size argument indicates to evolve 250 codon positions\n",
    "my_partition = pyvolve.Partition(models = my_model, size = 250)\n",
    "\n",
    "# Evolve!\n",
    "my_evolver = pyvolve.Evolver(partitions = my_partition, tree = my_tree)\n",
    "my_evolver()"
   ]
  }
 ],
 "metadata": {
  "kernelspec": {
   "display_name": "Python 3.9.5 ('env_bio')",
   "language": "python",
   "name": "python3"
  },
  "language_info": {
   "codemirror_mode": {
    "name": "ipython",
    "version": 3
   },
   "file_extension": ".py",
   "mimetype": "text/x-python",
   "name": "python",
   "nbconvert_exporter": "python",
   "pygments_lexer": "ipython3",
   "version": "3.9.5"
  },
  "orig_nbformat": 4,
  "vscode": {
   "interpreter": {
    "hash": "c737589ac25c2b5207a58295544dae93bde342e9f173b68ed1d9625ade55517f"
   }
  }
 },
 "nbformat": 4,
 "nbformat_minor": 2
}
