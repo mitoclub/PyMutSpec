{
 "cells": [
  {
   "cell_type": "code",
   "execution_count": 1,
   "metadata": {},
   "outputs": [],
   "source": [
    "import numpy as np\n",
    "import pandas as pd\n",
    "import matplotlib.pyplot as plt"
   ]
  },
  {
   "cell_type": "code",
   "execution_count": 4,
   "metadata": {},
   "outputs": [],
   "source": [
    "path_to_leaves = \"../data/example_birds/leaves_birds_states.tsv\"\n",
    "path_to_anc = \"../data/example_birds/genes_states.tsv\""
   ]
  },
  {
   "cell_type": "code",
   "execution_count": 5,
   "metadata": {},
   "outputs": [],
   "source": [
    "states_dtype=np.float16\n",
    "dtypes = {\n",
    "    \"p_A\": states_dtype, \n",
    "    \"p_C\": states_dtype, \n",
    "    \"p_G\": states_dtype, \n",
    "    \"p_T\": states_dtype,\n",
    "    \"Site\": np.int32,\n",
    "    \"Part\": np.int8,\n",
    "}\n",
    "usecols = [\"Node\", \"Part\", \"Site\", \"State\", \"p_A\", \"p_C\", \"p_G\", \"p_T\"]\n",
    "\n",
    "# leaves = pd.read_csv(path_to_leaves, sep=\"\\t\", usecols=usecols, dtype=dtypes, comment='#', )\n",
    "anc = pd.read_csv(path_to_anc, sep=\"\\t\", usecols=usecols, dtype=dtypes, comment='#', )"
   ]
  },
  {
   "cell_type": "code",
   "execution_count": 6,
   "metadata": {},
   "outputs": [],
   "source": [
    "anc[anc.Node.isin([\"Node1\", \"Node2\", \"Node3\"])].to_csv(\"../data/states_sample.tsv\", index=None, sep=\"\\t\")"
   ]
  },
  {
   "cell_type": "code",
   "execution_count": 7,
   "metadata": {},
   "outputs": [
    {
     "data": {
      "text/html": [
       "<div>\n",
       "<style scoped>\n",
       "    .dataframe tbody tr th:only-of-type {\n",
       "        vertical-align: middle;\n",
       "    }\n",
       "\n",
       "    .dataframe tbody tr th {\n",
       "        vertical-align: top;\n",
       "    }\n",
       "\n",
       "    .dataframe thead th {\n",
       "        text-align: right;\n",
       "    }\n",
       "</style>\n",
       "<table border=\"1\" class=\"dataframe\">\n",
       "  <thead>\n",
       "    <tr style=\"text-align: right;\">\n",
       "      <th></th>\n",
       "      <th>Node</th>\n",
       "      <th>Part</th>\n",
       "      <th>Site</th>\n",
       "      <th>State</th>\n",
       "      <th>p_A</th>\n",
       "      <th>p_C</th>\n",
       "      <th>p_G</th>\n",
       "      <th>p_T</th>\n",
       "    </tr>\n",
       "  </thead>\n",
       "  <tbody>\n",
       "    <tr>\n",
       "      <th>705</th>\n",
       "      <td>Node1</td>\n",
       "      <td>2</td>\n",
       "      <td>1</td>\n",
       "      <td>A</td>\n",
       "      <td>1.00000</td>\n",
       "      <td>0.00000</td>\n",
       "      <td>0.00001</td>\n",
       "      <td>0.00000</td>\n",
       "    </tr>\n",
       "    <tr>\n",
       "      <th>706</th>\n",
       "      <td>Node1</td>\n",
       "      <td>2</td>\n",
       "      <td>2</td>\n",
       "      <td>T</td>\n",
       "      <td>0.00000</td>\n",
       "      <td>0.00003</td>\n",
       "      <td>0.00000</td>\n",
       "      <td>1.00000</td>\n",
       "    </tr>\n",
       "    <tr>\n",
       "      <th>707</th>\n",
       "      <td>Node1</td>\n",
       "      <td>2</td>\n",
       "      <td>3</td>\n",
       "      <td>G</td>\n",
       "      <td>0.00001</td>\n",
       "      <td>0.00000</td>\n",
       "      <td>1.00000</td>\n",
       "      <td>0.00000</td>\n",
       "    </tr>\n",
       "    <tr>\n",
       "      <th>708</th>\n",
       "      <td>Node1</td>\n",
       "      <td>2</td>\n",
       "      <td>4</td>\n",
       "      <td>C</td>\n",
       "      <td>0.00000</td>\n",
       "      <td>1.00000</td>\n",
       "      <td>0.00000</td>\n",
       "      <td>0.00004</td>\n",
       "    </tr>\n",
       "    <tr>\n",
       "      <th>709</th>\n",
       "      <td>Node1</td>\n",
       "      <td>2</td>\n",
       "      <td>5</td>\n",
       "      <td>C</td>\n",
       "      <td>0.00000</td>\n",
       "      <td>1.00000</td>\n",
       "      <td>0.00000</td>\n",
       "      <td>0.00004</td>\n",
       "    </tr>\n",
       "  </tbody>\n",
       "</table>\n",
       "</div>"
      ],
      "text/plain": [
       "      Node  Part  Site State      p_A      p_C      p_G      p_T\n",
       "705  Node1     2     1     A  1.00000  0.00000  0.00001  0.00000\n",
       "706  Node1     2     2     T  0.00000  0.00003  0.00000  1.00000\n",
       "707  Node1     2     3     G  0.00001  0.00000  1.00000  0.00000\n",
       "708  Node1     2     4     C  0.00000  1.00000  0.00000  0.00004\n",
       "709  Node1     2     5     C  0.00000  1.00000  0.00000  0.00004"
      ]
     },
     "execution_count": 7,
     "metadata": {},
     "output_type": "execute_result"
    }
   ],
   "source": [
    "df = anc[(anc.Node == \"Node1\") & (anc.Part == 2)]\n",
    "df.head()"
   ]
  },
  {
   "cell_type": "code",
   "execution_count": 18,
   "metadata": {},
   "outputs": [
    {
     "data": {
      "text/plain": [
       "'Node\\tPart\\tSite\\tState\\tp_A\\tp_C\\tp_G\\tp_T\\n'"
      ]
     },
     "execution_count": 18,
     "metadata": {},
     "output_type": "execute_result"
    }
   ],
   "source": [
    "\"\\t\".join(df.columns) + \"\\n\""
   ]
  },
  {
   "cell_type": "code",
   "execution_count": 14,
   "metadata": {},
   "outputs": [
    {
     "data": {
      "text/plain": [
       "'Node1\\t2\\t1\\tA\\t1.0\\t0.0\\t1e-05\\t0.0\\nNode1\\t2\\t2\\tT\\t0.0\\t3e-05\\t0.0\\t1.0\\nNode1\\t2\\t3\\tG\\t1e-05\\t0.0\\t1.0\\t0.0\\nNode1\\t2\\t4\\tC\\t0.0\\t1.0\\t0.0\\t4e-05\\nNode1\\t2\\t5\\tC\\t0.0\\t1.0\\t0.0\\t4e-05\\nNode1\\t2\\t6\\tA\\t0.9937\\t0.00613\\t0.00016\\t0.00018\\nNode1\\t2\\t7\\tC\\t0.0\\t1.0\\t0.0\\t4e-05\\nNode1\\t2\\t8\\tA\\t1.0\\t0.0\\t1e-05\\t0.0\\nNode1\\t2\\t9\\tA\\t1.0\\t0.0\\t1e-05\\t0.0\\nNode1\\t2\\t10\\tC\\t0.0\\t1.0\\t0.0\\t4e-05\\nNode1\\t2\\t11\\tT\\t0.0\\t3e-05\\t0.0\\t1.0\\nNode1\\t2\\t12\\tA\\t0.9863\\t0.01293\\t0.00064\\t0.00024\\nNode1\\t2\\t13\\tA\\t1.0\\t0.0\\t1e-05\\t0.0\\nNode1\\t2\\t14\\tA\\t1.0\\t0.0\\t1e-05\\t0.0\\nNode1\\t2\\t15\\tC\\t0.0\\t1.0\\t0.0\\t6e-05\\nNode1\\t2\\t16\\tC\\t0.0\\t1.0\\t0.0\\t4e-05\\nNode1\\t2\\t17\\tC\\t0.0\\t1.0\\t0.0\\t4e-05\\nNode1\\t2\\t18\\tA\\t1.0\\t0.0\\t1e-05\\t0.0\\nNode1\\t2\\t19\\tA\\t1.0\\t0.0\\t2e-05\\t0.0\\nNode1\\t2\\t20\\tA\\t0.9995\\t0.0\\t0.00042\\t0.0\\nNode1\\t2\\t21\\tC\\t0.0\\t0.9985\\t0.0\\t0.00143\\nNode1\\t2\\t22\\tC\\t0.0\\t1.0\\t0.0\\t4e-05\\nNode1\\t2\\t23\\tC\\t0.0\\t1.0\\t0.0\\t4e-05\\nNode1\\t2\\t24\\tA\\t1.0\\t0.0\\t1e-05\\t0.0\\nNode1\\t2\\t25\\tT\\t0.0\\t3e-05\\t0.0\\t1.0\\nNode1\\t2\\t26\\tG\\t1e-05\\t0.0\\t1.0\\t0.0\\nNode1\\t2\\t27\\tA\\t1.0\\t0.0\\t1e-05\\t0.0\\nNode1\\t2\\t28\\tT\\t0.0\\t0.0001\\t0.0\\t1.0\\nNode1\\t2\\t29\\tT\\t0.0\\t3e-05\\t0.0\\t1.0\\nNode1\\t2\\t30\\tC\\t1e-05\\t0.8916\\t0.0\\t0.1082\\nNode1\\t2\\t31\\tT\\t0.0\\t3e-05\\t0.0\\t1.0\\nNode1\\t2\\t32\\tT\\t0.0\\t4e-05\\t0.0\\t1.0\\nNode1\\t2\\t33\\tT\\t1e-05\\t0.23\\t0.0\\t0.77\\nNode1\\t2\\t34\\tA\\t1.0\\t0.0\\t1e-05\\t0.0\\nNode1\\t2\\t35\\tT\\t0.0\\t4e-05\\t0.0\\t1.0\\nNode1\\t2\\t36\\tC\\t0.0\\t0.981\\t0.0\\t0.0191\\nNode1\\t2\\t37\\tA\\t1.0\\t0.0\\t1e-05\\t0.0\\nNode1\\t2\\t38\\tT\\t0.0\\t3e-05\\t0.0\\t1.0\\nNode1\\t2\\t39\\tA\\t0.903\\t0.0\\t0.0972\\t0.0\\nNode1\\t2\\t40\\tC\\t1e-05\\t1.0\\t0.0\\t0.00018\\nNode1\\t2\\t41\\tT\\t0.0\\t3e-05\\t0.0\\t1.0\\nNode1\\t2\\t42\\tA\\t0.989\\t0.01114\\t0.00016\\t0.00014\\nNode1\\t2\\t43\\tA\\t1.0\\t0.0\\t1e-05\\t0.0\\nNode1\\t2\\t44\\tT\\t1e-05\\t0.1015\\t0.0\\t0.8984\\nNode1\\t2\\t45\\tT\\t0.01295\\t0.0122\\t0.00012\\t0.9746\\nNode1\\t2\\t46\\tT\\t0.0\\t3e-05\\t0.0\\t1.0\\nNode1\\t2\\t47\\tC\\t0.0\\t1.0\\t0.0\\t4e-05\\nNode1\\t2\\t48\\tA\\t1.0\\t0.0\\t1e-05\\t0.0\\nNode1\\t2\\t49\\tT\\t0.0\\t3e-05\\t0.0\\t1.0\\nNode1\\t2\\t50\\tG\\t1e-05\\t0.0\\t1.0\\t0.0\\nNode1\\t2\\t51\\tA\\t0.998\\t0.0\\t0.00189\\t0.0\\nNode1\\t2\\t52\\tC\\t0.0\\t1.0\\t0.0\\t4e-05\\nNode1\\t2\\t53\\tT\\t0.0\\t3e-05\\t0.0\\t1.0\\nNode1\\t2\\t54\\tA\\t0.958\\t0.00127\\t0.00099\\t0.03986\\nNode1\\t2\\t55\\tA\\t1.0\\t0.0\\t1e-05\\t0.0\\nNode1\\t2\\t56\\tC\\t0.0\\t1.0\\t0.0\\t4e-05\\nNode1\\t2\\t57\\tC\\t1e-05\\t1.0\\t0.0\\t6e-05\\nNode1\\t2\\t58\\tT\\t0.0\\t3e-05\\t0.0\\t1.0\\nNode1\\t2\\t59\\tT\\t3e-05\\t7e-05\\t0.0\\t1.0\\nNode1\\t2\\t60\\tC\\t0.0\\t1.0\\t0.0\\t4e-05\\nNode1\\t2\\t61\\tT\\t0.0\\t3e-05\\t0.0\\t1.0\\nNode1\\t2\\t62\\tC\\t0.0\\t1.0\\t0.0\\t4e-05\\nNode1\\t2\\t63\\tC\\t0.374\\t0.6245\\t0.00058\\t0.00067\\nNode1\\t2\\t64\\tC\\t0.0\\t1.0\\t0.0\\t7e-05\\nNode1\\t2\\t65\\tT\\t0.0\\t3e-05\\t0.0\\t1.0\\nNode1\\t2\\t66\\tC\\t0.1495\\t0.847\\t0.00021\\t0.00301\\nNode1\\t2\\t67\\tA\\t0.9995\\t6e-05\\t0.00011\\t0.00032\\nNode1\\t2\\t68\\tT\\t0.0\\t3e-05\\t0.0\\t1.0\\nNode1\\t2\\t69\\tC\\t0.0\\t1.0\\t0.0\\t6e-05\\nNode1\\t2\\t70\\tA\\t0.9995\\t0.00025\\t7e-05\\t1e-05\\nNode1\\t2\\t71\\tT\\t0.0\\t3e-05\\t0.0\\t1.0\\nNode1\\t2\\t72\\tC\\t0.0\\t1.0\\t0.0\\t4e-05\\nNode1\\t2\\t73\\tC\\t0.0\\t1.0\\t0.0\\t4e-05\\nNode1\\t2\\t74\\tA\\t1.0\\t0.0\\t1e-05\\t0.0\\nNode1\\t2\\t75\\tA\\t1.0\\t0.0\\t1e-05\\t0.0\\nNode1\\t2\\t76\\tC\\t0.0\\t1.0\\t0.0\\t4e-05\\nNode1\\t2\\t77\\tC\\t0.0\\t1.0\\t0.0\\t4e-05\\nNode1\\t2\\t78\\tC\\t0.00379\\t0.743\\t0.00021\\t0.253\\nNode1\\t2\\t79\\tA\\t1.0\\t0.0\\t1e-05\\t0.0\\nNode1\\t2\\t80\\tA\\t1.0\\t0.0\\t1e-05\\t0.0\\nNode1\\t2\\t81\\tA\\t0.998\\t0.0\\t0.00192\\t0.0\\nNode1\\t2\\t82\\tC\\t0.0\\t1.0\\t0.0\\t4e-05\\nNode1\\t2\\t83\\tT\\t0.0\\t3e-05\\t0.0\\t1.0\\nNode1\\t2\\t84\\tC\\t9e-05\\t0.9966\\t0.0\\t0.00315\\nNode1\\t2\\t85\\tC\\t0.0\\t1.0\\t0.0\\t0.00012\\nNode1\\t2\\t86\\tT\\t0.0\\t3e-05\\t0.0\\t1.0\\nNode1\\t2\\t87\\tA\\t1.0\\t0.0\\t2e-05\\t0.0\\nNode1\\t2\\t88\\tT\\t0.0\\t4e-05\\t0.0\\t1.0\\nNode1\\t2\\t89\\tC\\t0.0\\t1.0\\t0.0\\t4e-05\\nNode1\\t2\\t90\\tA\\t1.0\\t0.0\\t1e-05\\t0.0\\nNode1\\t2\\t91\\tT\\t0.0\\t3e-05\\t0.0\\t1.0\\nNode1\\t2\\t92\\tT\\t0.0\\t3e-05\\t0.0\\t1.0\\nNode1\\t2\\t93\\tC\\t0.0\\t0.993\\t0.0\\t0.00664\\nNode1\\t2\\t94\\tA\\t1.0\\t0.0\\t1e-05\\t0.0\\nNode1\\t2\\t95\\tC\\t0.0\\t0.9126\\t0.0\\t0.0876\\nNode1\\t2\\t96\\tC\\t0.0\\t1.0\\t0.0\\t4e-05\\nNode1\\t2\\t97\\tT\\t1e-05\\t0.1433\\t0.0\\t0.8564\\nNode1\\t2\\t98\\tC\\t0.0\\t1.0\\t0.0\\t4e-05\\nNode1\\t2\\t99\\tC\\t0.0\\t0.9434\\t0.0\\t0.0569\\nNode1\\t2\\t100\\tA\\t0.9995\\t0.00035\\t0.00011\\t3e-05\\nNode1\\t2\\t101\\tC\\t0.00039\\t0.9995\\t2e-05\\t0.00025\\nNode1\\t2\\t102\\tC\\t0.00041\\t0.9116\\t1e-05\\t0.08795\\nNode1\\t2\\t103\\tA\\t1.0\\t0.0\\t1e-05\\t0.0\\nNode1\\t2\\t104\\tA\\t1.0\\t0.0\\t1e-05\\t0.0\\nNode1\\t2\\t105\\tC\\t0.0\\t1.0\\t0.0\\t4e-05\\nNode1\\t2\\t106\\tC\\t0.0\\t1.0\\t0.0\\t4e-05\\nNode1\\t2\\t107\\tC\\t0.0\\t1.0\\t0.0\\t4e-05\\nNode1\\t2\\t108\\tC\\t2e-05\\t1.0\\t0.0\\t0.00015\\nNode1\\t2\\t109\\tC\\t0.00851\\t0.943\\t0.0037\\t0.04477\\nNode1\\t2\\t110\\tT\\t0.00838\\t0.05856\\t0.00364\\t0.929\\nNode1\\t2\\t111\\tA\\t0.5415\\t0.3572\\t0.0461\\t0.05515\\nNode1\\t2\\t112\\tT\\t0.03192\\t0.168\\t0.01386\\t0.786\\nNode1\\t2\\t113\\tC\\t0.03192\\t0.8325\\t0.01386\\t0.12146\\nNode1\\t2\\t114\\tC\\t0.03192\\t0.8325\\t0.01386\\t0.12146\\nNode1\\t2\\t115\\tC\\t0.0\\t1.0\\t0.0\\t4e-05\\nNode1\\t2\\t116\\tC\\t0.0\\t1.0\\t0.0\\t4e-05\\nNode1\\t2\\t117\\tC\\t0.00021\\t0.9995\\t0.0\\t0.00015\\nNode1\\t2\\t118\\tT\\t1e-05\\t4e-05\\t0.0\\t1.0\\nNode1\\t2\\t119\\tC\\t5e-05\\t0.9995\\t0.00036\\t0.00026\\nNode1\\t2\\t120\\tC\\t0.0\\t1.0\\t0.0\\t0.00012\\nNode1\\t2\\t121\\tA\\t0.8994\\t0.02827\\t0.0519\\t0.02046\\nNode1\\t2\\t122\\tC\\t0.02457\\t0.8677\\t0.01068\\t0.0971\\nNode1\\t2\\t123\\tT\\t0.02457\\t0.1343\\t0.01068\\t0.8306\\nNode1\\t2\\t124\\tA\\t1.0\\t0.0\\t1e-05\\t0.0\\nNode1\\t2\\t125\\tA\\t1.0\\t0.0\\t2e-05\\t0.0\\nNode1\\t2\\t126\\tC\\t0.0\\t0.991\\t0.0\\t0.00897\\nNode1\\t2\\t127\\tC\\t0.02374\\t0.8574\\t0.01032\\t0.10846\\nNode1\\t2\\t128\\tT\\t0.02373\\t0.1304\\t0.01031\\t0.8354\\nNode1\\t2\\t129\\tA\\t0.9023\\t0.02731\\t0.05038\\t0.01976\\nNode1\\t2\\t130\\tC\\t0.02374\\t0.8716\\t0.01031\\t0.09436\\nNode1\\t2\\t131\\tT\\t0.02393\\t0.288\\t0.0104\\t0.6777\\nNode1\\t2\\t132\\tC\\t0.02374\\t0.8716\\t0.01031\\t0.09436\\nNode1\\t2\\t133\\tA\\t1.0\\t0.0\\t1e-05\\t0.0\\nNode1\\t2\\t134\\tA\\t1.0\\t0.0\\t1e-05\\t0.0\\nNode1\\t2\\t135\\tA\\t1.0\\t0.0\\t1e-05\\t0.0\\nNode1\\t2\\t136\\tA\\t0.831\\t0.0494\\t0.08386\\t0.03574\\nNode1\\t2\\t137\\tT\\t0.04294\\t0.2134\\t0.01865\\t0.725\\nNode1\\t2\\t138\\tA\\t0.831\\t0.0494\\t0.08386\\t0.03574\\nNode1\\t2\\t139\\tA\\t0.998\\t0.0\\t0.00204\\t0.0\\nNode1\\t2\\t140\\tC\\t0.00039\\t0.9995\\t2e-05\\t0.00026\\nNode1\\t2\\t141\\tC\\t0.00203\\t0.998\\t1e-05\\t0.00012\\nNode1\\t2\\t142\\tT\\t0.03024\\t0.1605\\t0.01314\\t0.796\\nNode1\\t2\\t143\\tT\\t0.03024\\t0.1605\\t0.01314\\t0.796\\nNode1\\t2\\t144\\tA\\t0.8774\\t0.03482\\t0.0624\\t0.02519\\nNode1\\t2\\t145\\tA\\t0.8774\\t0.03482\\t0.0624\\t0.02519\\nNode1\\t2\\t146\\tC\\t0.03024\\t0.8403\\t0.01314\\t0.11615\\nNode1\\t2\\t147\\tC\\t0.03024\\t0.8403\\t0.01314\\t0.11615\\nNode1\\t2\\t148\\tC\\t0.00015\\t0.9727\\t0.0\\t0.02728\\nNode1\\t2\\t149\\tC\\t0.0\\t0.997\\t0.0\\t0.00295\\nNode1\\t2\\t150\\tC\\t0.01874\\t0.9756\\t9e-05\\t0.00568\\nNode1\\t2\\t151\\tG\\t0.1265\\t0.0301\\t0.822\\t0.02177\\nNode1\\t2\\t152\\tC\\t0.02618\\t0.8594\\t0.01137\\t0.10284\\nNode1\\t2\\t153\\tC\\t0.02618\\t0.8594\\t0.01137\\t0.10284\\nNode1\\t2\\t154\\tA\\t1.0\\t0.0\\t2e-05\\t0.0\\nNode1\\t2\\t155\\tC\\t0.0\\t1.0\\t0.0\\t5e-05\\nNode1\\t2\\t156\\tA\\t1.0\\t3e-05\\t2e-05\\t0.0\\nNode1\\t2\\t157\\tA\\t0.9595\\t0.00959\\t0.02419\\t0.00693\\nNode1\\t2\\t158\\tT\\t0.2803\\t0.09564\\t0.02962\\t0.594\\nNode1\\t2\\t159\\tA\\t0.6426\\t0.2659\\t0.037\\t0.0547\\nNode1\\t2\\t160\\tA\\t0.9995\\t0.00032\\t0.00012\\t3e-05\\nNode1\\t2\\t161\\tC\\t0.0\\t1.0\\t0.0\\t4e-05\\nNode1\\t2\\t162\\tC\\t0.0\\t1.0\\t0.0\\t5e-05\\nNode1\\t2\\t163\\tA\\t1.0\\t0.0\\t2e-05\\t0.0\\nNode1\\t2\\t164\\tC\\t0.0\\t1.0\\t0.0\\t5e-05\\nNode1\\t2\\t165\\tA\\t0.9863\\t0.00068\\t0.00064\\t0.01253\\nNode1\\t2\\t166\\tC\\t0.03778\\t0.806\\t0.01642\\t0.1395\\nNode1\\t2\\t167\\tT\\t0.03778\\t0.1929\\t0.01642\\t0.753\\nNode1\\t2\\t168\\tC\\t0.03778\\t0.806\\t0.01642\\t0.1395\\nNode1\\t2\\t169\\tA\\t1.0\\t0.0\\t1e-05\\t0.0\\nNode1\\t2\\t170\\tA\\t1.0\\t0.0\\t5e-05\\t0.0\\nNode1\\t2\\t171\\tA\\t1.0\\t6e-05\\t4e-05\\t0.0\\nNode1\\t2\\t172\\tA\\t1.0\\t0.0\\t2e-05\\t0.0\\nNode1\\t2\\t173\\tC\\t0.0\\t1.0\\t0.0\\t4e-05\\nNode1\\t2\\t174\\tC\\t0.0\\t0.997\\t0.0\\t0.00296\\nNode1\\t2\\t175\\tC\\t0.03217\\t0.8315\\t0.01398\\t0.1223\\nNode1\\t2\\t176\\tC\\t0.03217\\t0.8315\\t0.01398\\t0.1223\\nNode1\\t2\\t177\\tC\\t0.03217\\t0.8315\\t0.01398\\t0.1223\\nNode1\\t2\\t178\\tA\\t0.846\\t0.00063\\t0.00026\\t0.153\\nNode1\\t2\\t179\\tC\\t1e-05\\t1.0\\t0.0\\t5e-05\\nNode1\\t2\\t180\\tC\\t0.00039\\t0.9995\\t2e-05\\t0.00029\\nNode1\\t2\\t181\\tC\\t0.0\\t1.0\\t0.0\\t4e-05\\nNode1\\t2\\t182\\tC\\t0.0\\t1.0\\t0.0\\t4e-05\\nNode1\\t2\\t183\\tC\\t0.0\\t1.0\\t0.0\\t4e-05\\nNode1\\t2\\t184\\tT\\t0.0447\\t0.2202\\t0.01942\\t0.716\\nNode1\\t2\\t185\\tC\\t0.0447\\t0.7764\\t0.01942\\t0.1593\\nNode1\\t2\\t186\\tC\\t0.0447\\t0.7764\\t0.01942\\t0.1593\\nNode1\\t2\\t187\\tT\\t0.0\\t3e-05\\t0.0\\t1.0\\nNode1\\t2\\t188\\tG\\t1e-05\\t0.0\\t1.0\\t0.0\\nNode1\\t2\\t189\\tA\\t1.0\\t0.0\\t1e-05\\t0.0\\nNode1\\t2\\t190\\tA\\t0.9995\\t0.00032\\t0.00012\\t3e-05\\nNode1\\t2\\t191\\tC\\t0.00036\\t0.9995\\t0.0\\t0.00018\\nNode1\\t2\\t192\\tC\\t0.0\\t1.0\\t0.0\\t5e-05\\nNode1\\t2\\t193\\tT\\t0.0\\t3e-05\\t0.0\\t1.0\\nNode1\\t2\\t194\\tG\\t1e-05\\t0.0\\t1.0\\t0.0\\nNode1\\t2\\t195\\tA\\t1.0\\t0.0\\t1e-05\\t0.0\\nNode1\\t2\\t196\\tC\\t0.0\\t1.0\\t0.0\\t4e-05\\nNode1\\t2\\t197\\tC\\t0.0\\t1.0\\t0.0\\t4e-05\\nNode1\\t2\\t198\\tA\\t1.0\\t0.0\\t1e-05\\t0.0\\nNode1\\t2\\t199\\tT\\t0.0\\t3e-05\\t0.0\\t1.0\\nNode1\\t2\\t200\\tG\\t1e-05\\t0.0\\t1.0\\t0.0\\nNode1\\t2\\t201\\tA\\t1.0\\t0.0\\t1e-05\\t0.0\\nNode1\\t2\\t202\\tA\\t0.9854\\t0.00019\\t0.00015\\t0.01422\\nNode1\\t2\\t203\\tC\\t0.0\\t1.0\\t0.0\\t4e-05\\nNode1\\t2\\t204\\tC\\t0.0\\t1.0\\t0.0\\t4e-05\\n'"
      ]
     },
     "execution_count": 14,
     "metadata": {},
     "output_type": "execute_result"
    }
   ],
   "source": [
    "df.to_csv(sep=\"\\t\", index=None, header=None)"
   ]
  },
  {
   "cell_type": "code",
   "execution_count": null,
   "metadata": {},
   "outputs": [],
   "source": []
  },
  {
   "cell_type": "code",
   "execution_count": null,
   "metadata": {},
   "outputs": [],
   "source": []
  },
  {
   "cell_type": "code",
   "execution_count": 9,
   "metadata": {},
   "outputs": [
    {
     "data": {
      "text/plain": [
       "764"
      ]
     },
     "execution_count": 9,
     "metadata": {},
     "output_type": "execute_result"
    }
   ],
   "source": [
    "leaves.Node.nunique()"
   ]
  },
  {
   "cell_type": "code",
   "execution_count": 7,
   "metadata": {},
   "outputs": [
    {
     "name": "stdout",
     "output_type": "stream",
     "text": [
      "<class 'pandas.core.frame.DataFrame'>\n",
      "RangeIndex: 8652300 entries, 0 to 8652299\n",
      "Data columns (total 7 columns):\n",
      " #   Column  Dtype  \n",
      "---  ------  -----  \n",
      " 0   Node    object \n",
      " 1   Part    int8   \n",
      " 2   Site    int32  \n",
      " 3   p_A     float16\n",
      " 4   p_C     float16\n",
      " 5   p_G     float16\n",
      " 6   p_T     float16\n",
      "dtypes: float16(4), int32(1), int8(1), object(1)\n",
      "memory usage: 173.3+ MB\n"
     ]
    }
   ],
   "source": [
    "leaves.info()"
   ]
  },
  {
   "cell_type": "markdown",
   "metadata": {},
   "source": [
    "764 - 173MB<br>\n",
    "50000 - X"
   ]
  },
  {
   "cell_type": "code",
   "execution_count": 10,
   "metadata": {},
   "outputs": [
    {
     "data": {
      "text/plain": [
       "11321.989528795812"
      ]
     },
     "execution_count": 10,
     "metadata": {},
     "output_type": "execute_result"
    }
   ],
   "source": [
    "50000 * 173 / 764  # MB"
   ]
  },
  {
   "cell_type": "code",
   "execution_count": 3,
   "metadata": {},
   "outputs": [],
   "source": [
    "import sys\n",
    "sys.path.append(\"/home/mr/mutspec/mutspec\")\n",
    "\n",
    "from utils import GenesStates"
   ]
  },
  {
   "cell_type": "code",
   "execution_count": 4,
   "metadata": {},
   "outputs": [
    {
     "name": "stderr",
     "output_type": "stream",
     "text": [
      "mode = 'db'\n",
      "Loading existing database\n",
      "mode = 'dict'\n",
      "Loading ../data/states_sample.tsv...\n"
     ]
    }
   ],
   "source": [
    "# path_to_anc = \"../data/example_birds/anc_kg_states_birds.tsv\"\n",
    "# path_to_leaves = \"../data/example_birds/leaves_birds_states.tsv\"\n",
    "path_to_states = \"../data/states_sample.tsv\"\n",
    "path_to_db = '../data/states_sample.db'\n",
    "\n",
    "gs1 = GenesStates(path_to_states, path_to_db=path_to_db, mode=\"db\")\n",
    "gs2 = GenesStates(path_to_states)"
   ]
  },
  {
   "cell_type": "code",
   "execution_count": 5,
   "metadata": {},
   "outputs": [],
   "source": [
    "node = \"Node2\"\n",
    "r2 = gs2.get_genome(node)\n",
    "r1 = gs1.get_genome(node)"
   ]
  },
  {
   "cell_type": "code",
   "execution_count": 9,
   "metadata": {},
   "outputs": [],
   "source": [
    "# TODO move to test file\n",
    "\n",
    "for node in [\"Node1\", \"Node2\", \"Node3\"]:\n",
    "    r2 = gs2.get_genome(node)\n",
    "    r1 = gs1.get_genome(node)\n",
    "    for gene in r1:\n",
    "        if not np.all(r1[gene]==r2[gene]):\n",
    "            print(node, gene)\n",
    "    "
   ]
  },
  {
   "cell_type": "code",
   "execution_count": 11,
   "metadata": {},
   "outputs": [
    {
     "name": "stderr",
     "output_type": "stream",
     "text": [
      "mode = 'db'\n"
     ]
    },
    {
     "data": {
      "text/plain": [
       "<utils.GenesStates at 0x7f963d6365b0>"
      ]
     },
     "execution_count": 11,
     "metadata": {},
     "output_type": "execute_result"
    }
   ],
   "source": [
    "GenesStates(path_to_states, mode=\"db\")"
   ]
  },
  {
   "cell_type": "code",
   "execution_count": null,
   "metadata": {},
   "outputs": [],
   "source": []
  },
  {
   "cell_type": "code",
   "execution_count": null,
   "metadata": {},
   "outputs": [],
   "source": []
  },
  {
   "cell_type": "code",
   "execution_count": null,
   "metadata": {},
   "outputs": [],
   "source": []
  }
 ],
 "metadata": {
  "interpreter": {
   "hash": "168b15c321dd2602d32e2364c101fbe6179fdcd135a3910c88de948ab6dc8da5"
  },
  "kernelspec": {
   "display_name": "Python 3.9.5 ('env_ms': venv)",
   "language": "python",
   "name": "python3"
  },
  "language_info": {
   "codemirror_mode": {
    "name": "ipython",
    "version": 3
   },
   "file_extension": ".py",
   "mimetype": "text/x-python",
   "name": "python",
   "nbconvert_exporter": "python",
   "pygments_lexer": "ipython3",
   "version": "3.9.5"
  },
  "orig_nbformat": 4
 },
 "nbformat": 4,
 "nbformat_minor": 2
}
